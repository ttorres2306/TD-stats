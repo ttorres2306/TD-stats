{
 "cells": [
  {
   "cell_type": "markdown",
   "id": "77827ae2-11d3-4abd-911e-1c36ccf436c2",
   "metadata": {
    "tags": []
   },
   "source": [
    "# TD 1 | Introduction à Python pour l'analyse de données\n",
    "\n",
    "---\n",
    "\n",
    "Objectifs du TD :\n",
    "\n",
    "* découvrir Python\n",
    "* se familiariser avec le langage et le notebook Jupyter\n",
    "* découvrir et maîtriser les bases des librairies de calcul numérique et d'analyse de données numpy et pandas\n",
    "\n",
    "---"
   ]
  },
  {
   "cell_type": "markdown",
   "id": "bad440b9-18a4-4b45-809d-df8d4009f3ff",
   "metadata": {
    "jp-MarkdownHeadingCollapsed": true,
    "tags": []
   },
   "source": [
    "##  Installation de Python et Jupyter"
   ]
  },
  {
   "cell_type": "markdown",
   "id": "052b229f-8f3a-4a46-8285-aa5ffd721c02",
   "metadata": {},
   "source": [
    "### Windows"
   ]
  },
  {
   "cell_type": "markdown",
   "id": "680cdce7-3be8-4b62-a670-66ba16407412",
   "metadata": {},
   "source": [
    "#### Installation Python"
   ]
  },
  {
   "cell_type": "markdown",
   "id": "e6b3a3c6-57f1-4d11-ae58-8d361881814b",
   "metadata": {},
   "source": [
    "Vérifiez si vous avez déjà une version de python installée en ouvrant l'invite de commande et en exécutant l'une des deux commandes python suivantes : \n",
    "> python --version   \n",
    "\n",
    "> python3 --version \n",
    "\n",
    "Si ce n'est pas le cas, vous pouvez procéder à l'installation comme suit :\n",
    " \n",
    "1. Allez sur le site web : https://www.python.org/downloads/windows/\n",
    "2. Cliquez sur \"Latest Python 3 Release - Python 3.10.7\".\n",
    "3. Si votre ordinateur utilise une version 64 bits de Windows, téléchargez le Windows installer (64-bit). Sinon, téléchargez Windows installer (32-bit).\n",
    "4. Après avoir téléchargé le Windows installer, vous devez l'exécuter (double-cliquez dessus) et suivre les instructions qui s'y trouvent.\n",
    "\n",
    "NB : Au début de l'installation, assurez-vous de cocher la case \"Add Python 3.10 to PATH\" ou \"Add Python to your environment variables\" avant de cliquer sur \"Install Now\".\n"
   ]
  },
  {
   "cell_type": "markdown",
   "id": "a0c71786-cf7a-4082-b26d-de236ac6d022",
   "metadata": {},
   "source": [
    "#### Installation Jupyter"
   ]
  },
  {
   "cell_type": "markdown",
   "id": "1ef7f2f9-8836-40a0-a5b6-1555ccd5ccad",
   "metadata": {},
   "source": [
    "Ouvrir l'invite de commande et exécuter la commande suivante en remplaçant Pseudo_de_votre_user par le nom de l'utilisateur de votre session : \n",
    "> cd \"C:\\Users\\Pseudo_de_votre_user\\AppData\\Local\\Programs\\Python\\Python310\\Scripts\"\n",
    "\n",
    "Ensuite, executer la commande suivante :\n",
    "> pip install jupyterlab\n",
    "\n",
    "Une fois l'installation terminée avec succès, vous pouvez lancer JupyterLab avec la commande suivante : \n",
    "> jupyter-lab\n"
   ]
  },
  {
   "cell_type": "markdown",
   "id": "1f18bb0b-a3e0-4147-adff-52137de24465",
   "metadata": {},
   "source": [
    "### Linux & Mac OS"
   ]
  },
  {
   "cell_type": "markdown",
   "id": "c6d0362e-d415-4946-9661-3790aaf46850",
   "metadata": {},
   "source": [
    "#### Installation Python"
   ]
  },
  {
   "cell_type": "markdown",
   "id": "054fa2f3-524d-4e43-ba52-a25f92566ae6",
   "metadata": {},
   "source": [
    "Normalement, Python est préinstallé sur la quasi-totalité des distributions. Vous n'avez pas besoin de le réinstaller, mais vous pouvez mettre à jour la version si vous le souhaitez.\n",
    "\n",
    "Vérifiez la version Python installée en exécutant l'une des deux commandes python suivantes sur votre terminal : \n",
    "> python --version   \n",
    "\n",
    "> python3 --version "
   ]
  },
  {
   "cell_type": "markdown",
   "id": "e234b9ae-f30b-4fde-9da6-2279277d4c1e",
   "metadata": {},
   "source": [
    "#### Installation Jupyter"
   ]
  },
  {
   "cell_type": "markdown",
   "id": "bfb4b748-f55f-4383-94ca-7337e7f8d25e",
   "metadata": {},
   "source": [
    "Vérifier que la commande pip3 est installée. Sinon, l'installer (exemple pour Debian/Ubuntu/Linux Mint, à adapter selon votre distribution) :\n",
    "\n",
    "> sudo apt install python3-pip\n",
    "\n",
    "Ensuite, installer JupyterLab en executant la commande suivante:\n",
    "> pip3 install -U jupyterlab\n",
    "\n",
    "Enfin, placez-vous dans votre dossier de travail et lancez un notebook :\n",
    "\n",
    "> jupyter-lab"
   ]
  },
  {
   "cell_type": "markdown",
   "id": "8cd7d902-7c1f-4c31-bb41-0ede4b4f4481",
   "metadata": {
    "tags": []
   },
   "source": [
    "## Syntaxe et Concepts de base"
   ]
  },
  {
   "cell_type": "code",
   "execution_count": 2,
   "id": "0ee8dd39-7266-41a1-97b7-38a4f8afeb75",
   "metadata": {},
   "outputs": [],
   "source": [
    "a = 33\n",
    "b = 9\n",
    "c = 2.0"
   ]
  },
  {
   "cell_type": "code",
   "execution_count": 3,
   "id": "3d194b33-77ab-40df-992b-dde6eec290c6",
   "metadata": {},
   "outputs": [
    {
     "data": {
      "text/plain": [
       "42"
      ]
     },
     "execution_count": 3,
     "metadata": {},
     "output_type": "execute_result"
    }
   ],
   "source": [
    "a+b"
   ]
  },
  {
   "cell_type": "code",
   "execution_count": 4,
   "id": "f5c7e24e-c8d9-4995-8e3b-82b52aa5e249",
   "metadata": {},
   "outputs": [
    {
     "name": "stdout",
     "output_type": "stream",
     "text": [
      "42\n"
     ]
    }
   ],
   "source": [
    "print(a+b)"
   ]
  },
  {
   "cell_type": "code",
   "execution_count": 5,
   "id": "7148b94b-4779-4037-a5c5-9cf80f91fed3",
   "metadata": {},
   "outputs": [
    {
     "data": {
      "text/plain": [
       "int"
      ]
     },
     "execution_count": 5,
     "metadata": {},
     "output_type": "execute_result"
    }
   ],
   "source": [
    "type(a)"
   ]
  },
  {
   "cell_type": "code",
   "execution_count": 6,
   "id": "b0eb2c18-eee8-4609-860b-021facfabc8e",
   "metadata": {},
   "outputs": [
    {
     "data": {
      "text/plain": [
       "float"
      ]
     },
     "execution_count": 6,
     "metadata": {},
     "output_type": "execute_result"
    }
   ],
   "source": [
    "type(c)"
   ]
  },
  {
   "cell_type": "code",
   "execution_count": 7,
   "id": "d3a788ce-fc30-48e7-add2-89c1950c1bfe",
   "metadata": {},
   "outputs": [
    {
     "data": {
      "text/plain": [
       "str"
      ]
     },
     "execution_count": 7,
     "metadata": {},
     "output_type": "execute_result"
    }
   ],
   "source": [
    "a = 'hello'\n",
    "type(a)"
   ]
  },
  {
   "cell_type": "code",
   "execution_count": 8,
   "id": "ae0eaa4f-9eb1-40bb-95ef-8152eba98c00",
   "metadata": {},
   "outputs": [
    {
     "name": "stdout",
     "output_type": "stream",
     "text": [
      "2\n",
      "4\n",
      "6\n",
      "8\n",
      "10\n"
     ]
    }
   ],
   "source": [
    "# Affiche les entiers pairs de 1 à 10\n",
    "for i in range(1, 11):\n",
    "    if i % 2 == 0:\n",
    "        print(i)"
   ]
  },
  {
   "cell_type": "markdown",
   "id": "6fb92b5a-910f-44d0-8c1c-902425b24bdf",
   "metadata": {},
   "source": [
    "### List"
   ]
  },
  {
   "cell_type": "code",
   "execution_count": 9,
   "id": "5c3a8a72-3737-4c72-bda2-af1fdfd5e015",
   "metadata": {},
   "outputs": [],
   "source": [
    "l = [1,2,3,4,4]"
   ]
  },
  {
   "cell_type": "markdown",
   "id": "b53eba5e-dc86-46c5-ad37-4fc08743839c",
   "metadata": {},
   "source": [
    "#### len, max, min"
   ]
  },
  {
   "cell_type": "code",
   "execution_count": 10,
   "id": "f3645b14-5244-47c2-9601-0b2defe3bbec",
   "metadata": {},
   "outputs": [
    {
     "name": "stdout",
     "output_type": "stream",
     "text": [
      "longueur de la liste = 5\n",
      "Valeur max de l = 4\n",
      "Valeur min de l = 1\n"
     ]
    }
   ],
   "source": [
    "print('longueur de la liste =', len(l))\n",
    "print(\"Valeur max de l =\", max(l))\n",
    "print(\"Valeur min de l =\", min(l))"
   ]
  },
  {
   "cell_type": "markdown",
   "id": "c6a972ff-7ef0-4a5a-ba61-7ffef0c39ea3",
   "metadata": {},
   "source": [
    "#### Ajout d'un élément d'une liste"
   ]
  },
  {
   "cell_type": "code",
   "execution_count": 11,
   "id": "fcf6650e-7979-43e7-8dba-8e8892e1dadc",
   "metadata": {},
   "outputs": [
    {
     "data": {
      "text/plain": [
       "[1, 2, 3, 4, 4, 6]"
      ]
     },
     "execution_count": 11,
     "metadata": {},
     "output_type": "execute_result"
    }
   ],
   "source": [
    "l.append(6)\n",
    "l"
   ]
  },
  {
   "cell_type": "code",
   "execution_count": 12,
   "id": "3da51e13-280c-4f24-835e-5aa60d379ee4",
   "metadata": {},
   "outputs": [
    {
     "data": {
      "text/plain": [
       "[1, 2, 3, 4, 4, 6, 7]"
      ]
     },
     "execution_count": 12,
     "metadata": {},
     "output_type": "execute_result"
    }
   ],
   "source": [
    "l = l+[7]\n",
    "l"
   ]
  },
  {
   "cell_type": "code",
   "execution_count": 13,
   "id": "9be84535-c2a4-4392-aee3-ed4ab377a1f0",
   "metadata": {},
   "outputs": [
    {
     "data": {
      "text/plain": [
       "[1, 2, 3, 4, 4, 6, 7, 7]"
      ]
     },
     "execution_count": 13,
     "metadata": {},
     "output_type": "execute_result"
    }
   ],
   "source": [
    "l+=[7]\n",
    "l"
   ]
  },
  {
   "cell_type": "markdown",
   "id": "8eab9db9-840e-4d2c-b2d3-89ceedfc0939",
   "metadata": {},
   "source": [
    "#### Modifier un élément"
   ]
  },
  {
   "cell_type": "code",
   "execution_count": 14,
   "id": "21c8b22d-c227-4b9e-81b4-b81946df5bfd",
   "metadata": {},
   "outputs": [
    {
     "data": {
      "text/plain": [
       "[29, 2, 3, 4, 4, 6, 7, 7]"
      ]
     },
     "execution_count": 14,
     "metadata": {},
     "output_type": "execute_result"
    }
   ],
   "source": [
    "l[0] = 29\n",
    "l"
   ]
  },
  {
   "cell_type": "code",
   "execution_count": 15,
   "id": "b47b506b-8f32-4190-b652-c8b95c84510d",
   "metadata": {},
   "outputs": [
    {
     "data": {
      "text/plain": [
       "[29, 9, 2, 3, 4, 4, 6, 7, 7]"
      ]
     },
     "execution_count": 15,
     "metadata": {},
     "output_type": "execute_result"
    }
   ],
   "source": [
    "l.insert(1,9)\n",
    "l"
   ]
  },
  {
   "cell_type": "markdown",
   "id": "99bc03d9-4c18-44e5-b0fb-ccdeeb16b24d",
   "metadata": {},
   "source": [
    "#### Suppression des éléments d'une liste"
   ]
  },
  {
   "cell_type": "code",
   "execution_count": 16,
   "id": "15bfebe5-cdd6-443e-ba6c-b135381d400e",
   "metadata": {},
   "outputs": [
    {
     "data": {
      "text/plain": [
       "[29, 9, 2, 3, 4, 4, 6, 7]"
      ]
     },
     "execution_count": 16,
     "metadata": {},
     "output_type": "execute_result"
    }
   ],
   "source": [
    "l.remove(7)\n",
    "l"
   ]
  },
  {
   "cell_type": "code",
   "execution_count": 17,
   "id": "5e65da05-40b2-4780-bdd8-7d74a625def2",
   "metadata": {},
   "outputs": [
    {
     "data": {
      "text/plain": [
       "[29, 9, 3, 4, 4, 6, 7]"
      ]
     },
     "execution_count": 17,
     "metadata": {},
     "output_type": "execute_result"
    }
   ],
   "source": [
    "l.pop(2)\n",
    "l"
   ]
  },
  {
   "cell_type": "markdown",
   "id": "05a40f33-80eb-40db-92e6-da821bacff04",
   "metadata": {},
   "source": [
    "#### Trier une liste"
   ]
  },
  {
   "cell_type": "code",
   "execution_count": 18,
   "id": "fb0bad2f-5d2a-449a-9212-cd1a2f531b1a",
   "metadata": {},
   "outputs": [
    {
     "name": "stdout",
     "output_type": "stream",
     "text": [
      "[29, 9, 7, 6, 4, 4, 3]\n"
     ]
    }
   ],
   "source": [
    "l.sort(reverse=True)\n",
    "print(l)"
   ]
  },
  {
   "cell_type": "code",
   "execution_count": 19,
   "id": "030e5309-6898-4dff-8ac5-0701d65849da",
   "metadata": {},
   "outputs": [
    {
     "name": "stdout",
     "output_type": "stream",
     "text": [
      "Sorted list: [3, 4, 4, 6, 7, 9, 29]\n"
     ]
    }
   ],
   "source": [
    "l_sorted = sorted(l)\n",
    "print('Sorted list:', l_sorted)"
   ]
  },
  {
   "cell_type": "markdown",
   "id": "86b74b2c-b621-4fd4-9f41-16e8ea4bff2c",
   "metadata": {},
   "source": [
    "#### Liste non homogène"
   ]
  },
  {
   "cell_type": "code",
   "execution_count": 20,
   "id": "a52cec2d-11f3-4383-ab50-c62aa1dc2257",
   "metadata": {},
   "outputs": [
    {
     "name": "stdout",
     "output_type": "stream",
     "text": [
      "<class 'list'>\n"
     ]
    },
    {
     "data": {
      "text/plain": [
       "[1, 'un', 2, 'deux', 3, 'trois']"
      ]
     },
     "execution_count": 20,
     "metadata": {},
     "output_type": "execute_result"
    }
   ],
   "source": [
    "l = [1, 'un', 2]\n",
    "l.append('deux')\n",
    "l += [3, 'trois']\n",
    "print(type(l))\n",
    "l"
   ]
  },
  {
   "cell_type": "code",
   "execution_count": 21,
   "id": "c237d423-0a57-4056-9077-7eeb8c321be4",
   "metadata": {},
   "outputs": [
    {
     "name": "stdout",
     "output_type": "stream",
     "text": [
      "<class 'tuple'>\n"
     ]
    },
    {
     "data": {
      "text/plain": [
       "('deux', 'trois')"
      ]
     },
     "execution_count": 21,
     "metadata": {},
     "output_type": "execute_result"
    }
   ],
   "source": [
    "a = l[3], l[-1]\n",
    "print(type(a))\n",
    "a"
   ]
  },
  {
   "cell_type": "code",
   "execution_count": 22,
   "id": "d6626821-592c-4d4f-adf2-c2acf7b155a0",
   "metadata": {},
   "outputs": [
    {
     "data": {
      "text/plain": [
       "'deux'"
      ]
     },
     "execution_count": 22,
     "metadata": {},
     "output_type": "execute_result"
    }
   ],
   "source": [
    "a[0]"
   ]
  },
  {
   "cell_type": "code",
   "execution_count": 23,
   "id": "b00b9acf-847b-40af-9ad1-f0e7a27a6e3e",
   "metadata": {},
   "outputs": [
    {
     "data": {
      "text/plain": [
       "[1, 2, 4, 8, 16, 32, 64, 128, 256, 512]"
      ]
     },
     "execution_count": 23,
     "metadata": {},
     "output_type": "execute_result"
    }
   ],
   "source": [
    "[2**p for p in range(10)] # \"Compréhension de liste\""
   ]
  },
  {
   "cell_type": "code",
   "execution_count": 24,
   "id": "946a4e8d-45d4-47d9-b500-1c2ae8624541",
   "metadata": {},
   "outputs": [
    {
     "name": "stdout",
     "output_type": "stream",
     "text": [
      "[2, 4, 6, 8, 10]\n"
     ]
    }
   ],
   "source": [
    "# Liste des entiers pairs de 1 à 10\n",
    "l = [i for i in range(1, 11) if i % 2 == 0]\n",
    "print(l)"
   ]
  },
  {
   "cell_type": "markdown",
   "id": "51ed9059-e7a3-4864-96d9-8ecdd5f297c2",
   "metadata": {},
   "source": [
    "### Tuple"
   ]
  },
  {
   "cell_type": "code",
   "execution_count": 25,
   "id": "d84aece0-87fb-4af0-adcb-bb66190d47cf",
   "metadata": {},
   "outputs": [
    {
     "name": "stdout",
     "output_type": "stream",
     "text": [
      "p= (1, 2, 3, 4)\n",
      "p[0] =  1\n"
     ]
    }
   ],
   "source": [
    "p = tuple(range(1,5))\n",
    "print(\"p=\", p)\n",
    "print(\"p[0] = \", p[0])"
   ]
  },
  {
   "cell_type": "code",
   "execution_count": 26,
   "id": "c752b6fe-28c7-44c5-9a55-8a336e4f8cf1",
   "metadata": {},
   "outputs": [
    {
     "name": "stdout",
     "output_type": "stream",
     "text": [
      "([1, 2], 5)\n",
      "([8, 2], 5)\n"
     ]
    }
   ],
   "source": [
    "p = ([1,2],5)\n",
    "\n",
    "print(p)\n",
    "\n",
    "p[0][0] = 8\n",
    "\n",
    "print(p)"
   ]
  },
  {
   "cell_type": "code",
   "execution_count": 27,
   "id": "f06b05b8-7eeb-4bec-95c9-d2928b9bdd1d",
   "metadata": {},
   "outputs": [],
   "source": [
    "# Les éléments du tuple sont fixes\n",
    "#p[0] = 6"
   ]
  },
  {
   "cell_type": "code",
   "execution_count": 28,
   "id": "3ed9e289-25df-4697-92ae-47f0544f9609",
   "metadata": {},
   "outputs": [
    {
     "name": "stdout",
     "output_type": "stream",
     "text": [
      "False\n"
     ]
    }
   ],
   "source": [
    "p1 = (1,2)\n",
    "p2 = (2,1)\n",
    "\n",
    "print(p1 == p2)"
   ]
  },
  {
   "cell_type": "markdown",
   "id": "a03da136-b600-4f8a-94a1-9243f97a2391",
   "metadata": {},
   "source": [
    "### Set"
   ]
  },
  {
   "cell_type": "code",
   "execution_count": 29,
   "id": "71da9218-67a8-4746-8a87-fc36b93d957d",
   "metadata": {},
   "outputs": [
    {
     "name": "stdout",
     "output_type": "stream",
     "text": [
      "{1, 2, 'l'}\n",
      "{9, 4, 5}\n"
     ]
    }
   ],
   "source": [
    "s = set((1,2,'l'))\n",
    "print(s)\n",
    "\n",
    "s = {4,5,9,9,9,9}\n",
    "print(s)"
   ]
  },
  {
   "cell_type": "code",
   "execution_count": 30,
   "id": "7469e205-4f7a-48b7-abd4-3bc7010b5bdc",
   "metadata": {},
   "outputs": [
    {
     "name": "stdout",
     "output_type": "stream",
     "text": [
      "{9, 4, 5, 6}\n"
     ]
    }
   ],
   "source": [
    "#Ajout d'un élément au set\n",
    "s.add(6)\n",
    "print(s)"
   ]
  },
  {
   "cell_type": "code",
   "execution_count": 31,
   "id": "1d6a9fa6-1df3-45cc-9813-a9525bd93b35",
   "metadata": {},
   "outputs": [
    {
     "name": "stdout",
     "output_type": "stream",
     "text": [
      "{9, 4, 6}\n"
     ]
    }
   ],
   "source": [
    "#Suppression d'un élément du set\n",
    "s.discard(5)\n",
    "print(s)"
   ]
  },
  {
   "cell_type": "code",
   "execution_count": 32,
   "id": "9bf72333-377f-45aa-8200-dbc1423ef110",
   "metadata": {},
   "outputs": [
    {
     "name": "stdout",
     "output_type": "stream",
     "text": [
      "set()\n"
     ]
    }
   ],
   "source": [
    "s.clear()\n",
    "print(s)"
   ]
  },
  {
   "cell_type": "code",
   "execution_count": 33,
   "id": "df41d914-39f5-4f0e-ad17-47bcf9add690",
   "metadata": {},
   "outputs": [],
   "source": [
    "A = {1,2,3,4,5}\n",
    "B = {2,4,6,7}\n",
    "C = {1,2,3}"
   ]
  },
  {
   "cell_type": "code",
   "execution_count": 34,
   "id": "6a04b5cc-0ee2-4f10-8600-43ae082e3eb5",
   "metadata": {},
   "outputs": [
    {
     "name": "stdout",
     "output_type": "stream",
     "text": [
      "Intersection de A et B = {2, 4}\n",
      "Union entre A et B = {1, 2, 3, 4, 5, 6, 7}\n",
      "Exclusion de B de A = {1, 3, 5}\n",
      "Diff sym. A et B = {1, 3, 5, 6, 7}\n"
     ]
    }
   ],
   "source": [
    "#Intersection\n",
    "print(\"Intersection de A et B =\", A&B)\n",
    "\n",
    "#Union\n",
    "print(\"Union entre A et B =\", A|B)\n",
    "\n",
    "#Exclusion\n",
    "print(\"Exclusion de B de A =\", A-B)\n",
    "\n",
    "#Différence symétrique\n",
    "print(\"Diff sym. A et B =\", A^B)"
   ]
  },
  {
   "cell_type": "code",
   "execution_count": 35,
   "id": "62436515-5142-463e-b939-b6f390549fb4",
   "metadata": {},
   "outputs": [
    {
     "name": "stdout",
     "output_type": "stream",
     "text": [
      "False\n",
      "C est inclus dans A\n"
     ]
    }
   ],
   "source": [
    "print(\"B est inclus strict dans A\") if A>B else print(False)\n",
    "print(\"C est inclus dans A\") if A>=C else print(False)"
   ]
  },
  {
   "cell_type": "markdown",
   "id": "5c983f45-d7fc-4924-911b-13937c110a36",
   "metadata": {},
   "source": [
    "### Dictionary"
   ]
  },
  {
   "cell_type": "code",
   "execution_count": 36,
   "id": "ffa8eb17-92e9-4cc9-8eea-418ca6bcf4a0",
   "metadata": {},
   "outputs": [
    {
     "name": "stdout",
     "output_type": "stream",
     "text": [
      "{'key1': 'value1', 'answer': 42}\n",
      "{'key1': 'value1', 'answer': 42}\n",
      "{'key1': 'value1', 'answer': 42}\n"
     ]
    },
    {
     "data": {
      "text/plain": [
       "42"
      ]
     },
     "execution_count": 36,
     "metadata": {},
     "output_type": "execute_result"
    }
   ],
   "source": [
    "# 1ère façon de créer un dictionnaire\n",
    "dic = {\"key1\": \"value1\", \"answer\": 42}\n",
    "# 2ème façon de créer un dictionnaire\n",
    "dic2 = dict(key1=\"value1\", answer=42)\n",
    "# 3ème façon de créer un dictionnaire\n",
    "dic3 = dict([(\"key1\",\"value1\"), (\"answer\",42)])\n",
    "print(dic)\n",
    "print(dic2)\n",
    "print(dic3)\n",
    "\n",
    "dic[\"answer\"]"
   ]
  },
  {
   "cell_type": "code",
   "execution_count": 37,
   "id": "2061def3-6e50-4190-93a8-7b9634505493",
   "metadata": {},
   "outputs": [],
   "source": [
    "dic['new'] = [1,2,3]"
   ]
  },
  {
   "cell_type": "code",
   "execution_count": 38,
   "id": "06693be1-378c-4bb0-9726-800dc7dce1b7",
   "metadata": {},
   "outputs": [
    {
     "data": {
      "text/plain": [
       "dict_keys(['key1', 'answer', 'new'])"
      ]
     },
     "execution_count": 38,
     "metadata": {},
     "output_type": "execute_result"
    }
   ],
   "source": [
    "dic.keys()"
   ]
  },
  {
   "cell_type": "code",
   "execution_count": 39,
   "id": "f708db44-838b-4098-b2cf-bf2335c77fa2",
   "metadata": {},
   "outputs": [
    {
     "data": {
      "text/plain": [
       "dict_items([('key1', 'value1'), ('answer', 42), ('new', [1, 2, 3])])"
      ]
     },
     "execution_count": 39,
     "metadata": {},
     "output_type": "execute_result"
    }
   ],
   "source": [
    "dic.items()"
   ]
  },
  {
   "cell_type": "code",
   "execution_count": 40,
   "id": "a14b0c50-05d9-4523-8166-f5482fbb6106",
   "metadata": {},
   "outputs": [
    {
     "data": {
      "text/plain": [
       "dict_values(['value1', 42, [1, 2, 3]])"
      ]
     },
     "execution_count": 40,
     "metadata": {},
     "output_type": "execute_result"
    }
   ],
   "source": [
    "dic.values()"
   ]
  },
  {
   "cell_type": "code",
   "execution_count": 41,
   "id": "be4c3770-e660-431f-8926-300c6f98d287",
   "metadata": {},
   "outputs": [
    {
     "name": "stdout",
     "output_type": "stream",
     "text": [
      "('key1', 'value1')\n"
     ]
    }
   ],
   "source": [
    "a,b,c = dic.items()\n",
    "print(a)"
   ]
  },
  {
   "cell_type": "markdown",
   "id": "b137a9a6-60c8-4c00-9a6f-596183340d27",
   "metadata": {
    "tags": []
   },
   "source": [
    "## Programmation Orientée Objet"
   ]
  },
  {
   "cell_type": "code",
   "execution_count": 42,
   "id": "66c1b630-ddd5-4d6b-bb66-6b2dfa496cf7",
   "metadata": {},
   "outputs": [],
   "source": [
    "\"\"\"\n",
    "Exemple de classe en Python\n",
    "\"\"\"\n",
    "class Moteur:\n",
    "    \n",
    "    # Constructeur\n",
    "    def __init__(self, esn, panne=False):\n",
    "        self.esn = esn\n",
    "        self.panne = panne\n",
    "    \n",
    "    # Méthodes\n",
    "    def dire_bonjour(self):\n",
    "        print('Bonjour, mon numéro de série est ' + self.esn)\n",
    "    \n",
    "    def fonctionne(self):\n",
    "        return not self.panne \n",
    "    "
   ]
  },
  {
   "cell_type": "code",
   "execution_count": 43,
   "id": "20290517-9ab3-4bad-ab86-5bc72280cff1",
   "metadata": {},
   "outputs": [
    {
     "name": "stdout",
     "output_type": "stream",
     "text": [
      "Bonjour, mon numéro de série est 420912\n",
      "True\n",
      "False\n",
      "\n",
      "\n",
      "Bonjour, mon numéro de série est 420913\n",
      "False\n"
     ]
    }
   ],
   "source": [
    "mot1 = Moteur('420912')\n",
    "mot2 = Moteur(panne=True, esn='420913')\n",
    "\n",
    "mot1.dire_bonjour()\n",
    "print(mot1.fonctionne())\n",
    "\n",
    "mot1.panne = True\n",
    "print(mot1.fonctionne())\n",
    "\n",
    "print('\\n')\n",
    "mot2.dire_bonjour()\n",
    "print(mot2.fonctionne())"
   ]
  },
  {
   "cell_type": "markdown",
   "id": "7425fc54-8c5f-49aa-a983-e0919eca56df",
   "metadata": {},
   "source": [
    "### Méthode récurcive vs Méthode itérative"
   ]
  },
  {
   "cell_type": "code",
   "execution_count": 44,
   "id": "77888025-c0af-492e-b2e9-c23b00642b28",
   "metadata": {},
   "outputs": [
    {
     "name": "stdout",
     "output_type": "stream",
     "text": [
      "120\n",
      "120\n"
     ]
    }
   ],
   "source": [
    "# Méthode récursive\n",
    "def fact1(n):\n",
    "    if n == 0:\n",
    "        return 1\n",
    "    else:\n",
    "        return n*fact1(n-1)\n",
    "\n",
    "# Méthode itérative\n",
    "def fact2(n):\n",
    "    s=1\n",
    "    for i in range(1,n+1):\n",
    "        s*=i\n",
    "    return s\n",
    "\n",
    "print(fact1(5))\n",
    "print(fact2(5))"
   ]
  },
  {
   "cell_type": "code",
   "execution_count": 45,
   "id": "af75da2d-f5d1-4841-add1-7714fb9d2084",
   "metadata": {},
   "outputs": [
    {
     "data": {
      "text/plain": [
       "'\\nApp.1 : Ecrire une fonction qui retourne le plus grand commun diviseur (pgcd) entre deux nombres a et b.\\n'"
      ]
     },
     "execution_count": 45,
     "metadata": {},
     "output_type": "execute_result"
    }
   ],
   "source": [
    "\"\"\"\n",
    "App.1 : Ecrire une fonction qui retourne le plus grand commun diviseur (pgcd) entre deux nombres a et b.\n",
    "\"\"\""
   ]
  },
  {
   "cell_type": "code",
   "execution_count": 46,
   "id": "bc67afd9",
   "metadata": {},
   "outputs": [
    {
     "name": "stdout",
     "output_type": "stream",
     "text": [
      "pgcd_it(a,b) =  5\n",
      "pgcd_rec(a,b) =  5\n"
     ]
    }
   ],
   "source": [
    "import math as ma\n",
    "\n",
    "\n",
    "def pgcd_it(a, b):\n",
    "    M =max(a,b)\n",
    "    for i in range(1,int(ma.sqrt(M))+ 1):\n",
    "        if a % i == 0 and b % i == 0:\n",
    "            res = i\n",
    "    return res\n",
    "\n",
    "\n",
    "def pgcd_rec(a, b):\n",
    "    if a == 0 or b == 0 :\n",
    "        return (a+b)\n",
    "    else:\n",
    "        r=a%b\n",
    "        return pgcd_rec(b,r)\n",
    "\n",
    "a=230\n",
    "b=25\n",
    "print(\"pgcd_it(a,b) = \", pgcd_it(a,b))\n",
    "print(\"pgcd_rec(a,b) = \", pgcd_rec(a,b))\n",
    "\n"
   ]
  },
  {
   "cell_type": "code",
   "execution_count": 47,
   "id": "b0a390d4-c04d-4398-b9cd-2f85b836e263",
   "metadata": {},
   "outputs": [
    {
     "name": "stdout",
     "output_type": "stream",
     "text": [
      "pgcd1(a,b) =  5\n",
      "pgcd2(a,b) =  5\n"
     ]
    }
   ],
   "source": [
    "\"\"\"\n",
    "App.1 : Correction\n",
    "\"\"\"\n",
    "\n",
    "#Méthode itérative\n",
    "def pgcd1(a,b):\n",
    "    while (a%b) != 0:\n",
    "        s = a%b\n",
    "        a = b\n",
    "        b = s\n",
    "    return b\n",
    "\n",
    "\n",
    "#Méthode récurcive\n",
    "def pgcd2(a,b):\n",
    "    if a==b : return a \n",
    "    if a<b : a,b = b,a\n",
    "    return pgcd2(a-b,b)\n",
    "\n",
    "a = 230\n",
    "b = 25\n",
    "\n",
    "print(\"pgcd1(a,b) = \", pgcd1(a,b))\n",
    "print(\"pgcd2(a,b) = \", pgcd2(a,b))"
   ]
  },
  {
   "cell_type": "markdown",
   "id": "335ef98a-5f95-453d-a6b7-2d199360e2cd",
   "metadata": {},
   "source": [
    "## Libraries"
   ]
  },
  {
   "cell_type": "markdown",
   "id": "34dce20e-1f94-45cb-93cc-db98c522919a",
   "metadata": {},
   "source": [
    "> pip install numpy pandas\n",
    "\n",
    "> pip3 install -U numpy pandas"
   ]
  },
  {
   "cell_type": "markdown",
   "id": "ee32799a-2dbd-479c-8a99-162522f1cbac",
   "metadata": {},
   "source": [
    "### Math"
   ]
  },
  {
   "cell_type": "code",
   "execution_count": 48,
   "id": "27fe5f91-bd00-409b-9fbe-fb751723ad02",
   "metadata": {},
   "outputs": [],
   "source": [
    "import math"
   ]
  },
  {
   "cell_type": "code",
   "execution_count": 49,
   "id": "641ce75e-83bb-4c75-901a-f46a85448d8e",
   "metadata": {},
   "outputs": [
    {
     "name": "stdout",
     "output_type": "stream",
     "text": [
      "sqrt(x) = 2.0\n",
      "cos(x) = -0.6536436208636119\n",
      "sin(x) = -0.7568024953079282\n",
      "factorial(x) = 24\n"
     ]
    }
   ],
   "source": [
    "x = 4\n",
    "\n",
    "print(\"sqrt(x) =\", math.sqrt(x))\n",
    "print(\"cos(x) =\", math.cos(x))\n",
    "print(\"sin(x) =\", math.sin(x))\n",
    "print(\"factorial(x) =\", math.factorial(x))"
   ]
  },
  {
   "cell_type": "markdown",
   "id": "45942361-083f-4c23-a100-d7f3a0877423",
   "metadata": {
    "tags": []
   },
   "source": [
    "### Numpy"
   ]
  },
  {
   "cell_type": "code",
   "execution_count": 50,
   "id": "aa7544d7-61c4-4aae-a6a5-496a157941b4",
   "metadata": {},
   "outputs": [],
   "source": [
    "import numpy as np"
   ]
  },
  {
   "cell_type": "code",
   "execution_count": 51,
   "id": "3eb41dca-dcfc-45e5-8c39-ce317121a912",
   "metadata": {},
   "outputs": [
    {
     "data": {
      "text/plain": [
       "array([[0., 0., 0., 0.],\n",
       "       [0., 0., 0., 0.],\n",
       "       [0., 0., 0., 0.]])"
      ]
     },
     "execution_count": 51,
     "metadata": {},
     "output_type": "execute_result"
    }
   ],
   "source": [
    "# Création d'un array à partir d'une liste\n",
    "v = np.array([1.0, 2.0, 3.0])\n",
    "# Création d'un array de taille (n,m) initialisé à 0\n",
    "z = np.zeros((3,4))\n",
    "z"
   ]
  },
  {
   "cell_type": "code",
   "execution_count": 52,
   "id": "ac7cdabb-3591-4b7a-b308-192a0624cc11",
   "metadata": {},
   "outputs": [
    {
     "name": "stdout",
     "output_type": "stream",
     "text": [
      "(3, 4)\n",
      "(3,)\n"
     ]
    }
   ],
   "source": [
    "# Taille d'un array\n",
    "print(z.shape)\n",
    "print(v.shape)"
   ]
  },
  {
   "cell_type": "code",
   "execution_count": 53,
   "id": "b4b8b030-ab39-40be-9c6c-d0ba78ddb971",
   "metadata": {},
   "outputs": [
    {
     "name": "stdout",
     "output_type": "stream",
     "text": [
      "A =  [[2. 1. 1.]\n",
      " [1. 2. 1.]\n",
      " [1. 1. 2.]]\n",
      "Av =  [7. 8. 9.]\n",
      "3*A =  [[6. 3. 3.]\n",
      " [3. 6. 3.]\n",
      " [3. 3. 6.]]\n",
      "A*v =  [[2. 2. 3.]\n",
      " [1. 4. 3.]\n",
      " [1. 2. 6.]]\n",
      "A + 1 =  [[3. 2. 2.]\n",
      " [2. 3. 2.]\n",
      " [2. 2. 3.]]\n",
      "A + v =  [[3. 3. 4.]\n",
      " [2. 4. 4.]\n",
      " [2. 3. 5.]]\n",
      "A^2 =  [[4. 1. 1.]\n",
      " [1. 4. 1.]\n",
      " [1. 1. 4.]]\n"
     ]
    }
   ],
   "source": [
    "# Opérations courantes\n",
    "A = np.ones((3,3)) + np.eye(3)\n",
    "print('A = ', A)\n",
    "print('Av = ', np.dot(A,v))\n",
    "print('3*A = ', 3*A)\n",
    "print('A*v = ', A*v)\n",
    "print('A + 1 = ', A+1)\n",
    "print('A + v = ', A+v)\n",
    "print('A^2 = ', np.square(A))"
   ]
  },
  {
   "cell_type": "code",
   "execution_count": 54,
   "id": "22507d09-f213-40c4-9328-2acefcaac78e",
   "metadata": {},
   "outputs": [
    {
     "name": "stdout",
     "output_type": "stream",
     "text": [
      "[1 2 5 9]\n"
     ]
    }
   ],
   "source": [
    "B = np.array([5, 2, 9, 1])\n",
    "\n",
    "print(np.sort(B))"
   ]
  },
  {
   "cell_type": "markdown",
   "id": "0393ae0a-4841-49fa-a19d-fd79b16707c1",
   "metadata": {},
   "source": [
    "#### Compatif de performance : produit matriciel\n"
   ]
  },
  {
   "cell_type": "code",
   "execution_count": 55,
   "id": "2cc82968-354a-4065-b039-ff50d852ef38",
   "metadata": {},
   "outputs": [],
   "source": [
    "import random"
   ]
  },
  {
   "cell_type": "code",
   "execution_count": 56,
   "id": "555a2783-9d39-4fa0-820c-d05395a42863",
   "metadata": {},
   "outputs": [],
   "source": [
    "# Création d'une matrice aléatoire sous forme de liste de listes\n",
    "taille = 30\n",
    "A = [[random.random() for _ in range(taille)] for _ in range(taille)]"
   ]
  },
  {
   "cell_type": "code",
   "execution_count": 57,
   "id": "a9a0ed33-f5b1-4be9-afb0-2cd03a554b14",
   "metadata": {},
   "outputs": [],
   "source": [
    "#print(A)"
   ]
  },
  {
   "cell_type": "code",
   "execution_count": 58,
   "id": "d0a7c16c-d2ba-4ece-ba30-39a90fcf3539",
   "metadata": {},
   "outputs": [
    {
     "data": {
      "text/plain": [
       "'\\nEXERCICE - Afficher un tuple contenant les dimensions de la matrice A\\n'"
      ]
     },
     "execution_count": 58,
     "metadata": {},
     "output_type": "execute_result"
    }
   ],
   "source": [
    "\"\"\"\n",
    "EXERCICE - Afficher un tuple contenant les dimensions de la matrice A\n",
    "\"\"\""
   ]
  },
  {
   "cell_type": "code",
   "execution_count": 59,
   "id": "940f73ef",
   "metadata": {},
   "outputs": [],
   "source": [
    "def size_list(A):\n",
    "    if (type(A) != list) :\n",
    "        res = []\n",
    "    else :\n",
    "        res = [len(A)]+size_list(A[0])\n",
    "    return(res)\n",
    "def size(A):\n",
    "    L=size_list(A)\n",
    "    return(tuple(L))"
   ]
  },
  {
   "cell_type": "code",
   "execution_count": 60,
   "id": "7f2cc1a5",
   "metadata": {},
   "outputs": [
    {
     "name": "stdout",
     "output_type": "stream",
     "text": [
      "(30, 30)\n"
     ]
    }
   ],
   "source": [
    "print(size(A))"
   ]
  },
  {
   "cell_type": "markdown",
   "id": "98f2a7f1-113f-4757-8706-166b163d65ce",
   "metadata": {},
   "source": [
    "$$ (AB)_{ij} = \\sum_k A_{ik} B_{kj} $$"
   ]
  },
  {
   "cell_type": "code",
   "execution_count": 61,
   "id": "8a80f0bb-5f31-4471-ae47-3886decff6ac",
   "metadata": {},
   "outputs": [
    {
     "data": {
      "text/plain": [
       "'\\nEXERCICE - Implémenter le produit matriciel de 2 matrices sous forme de listes de listes python\\n'"
      ]
     },
     "execution_count": 61,
     "metadata": {},
     "output_type": "execute_result"
    }
   ],
   "source": [
    "\"\"\"\n",
    "EXERCICE - Implémenter le produit matriciel de 2 matrices sous forme de listes de listes python\n",
    "\"\"\"\n"
   ]
  },
  {
   "cell_type": "code",
   "execution_count": 62,
   "id": "d8d3e221",
   "metadata": {},
   "outputs": [],
   "source": [
    "def produit(A,B):\n",
    "    (n_A,m_A)=size(A)\n",
    "    (n_B,m_B)=size(B)\n",
    "    assert(m_A==n_B)\n",
    "    res = [[0 for _ in range(n_A)] for _ in range(m_B)]\n",
    "    #print(\"----------------------------------------------------------------------------\")\n",
    "    for i in range(n_A):\n",
    "        for j in range(m_B):\n",
    "            #print(\"---------------(i,j)=\",(i,j),\"---------------\")\n",
    "            for k in range(m_A):\n",
    "                #print()\n",
    "                #print(\"i=\",i)\n",
    "                #print()\n",
    "                #print(\"A[i][k]=\",A[i][k])\n",
    "                #print(\"B[k][j]=\",B[k][j])\n",
    "                #print(\"res[i][j]=\",res[i][j])\n",
    "                res[i][j]+=A[i][k]*B[k][j]\n",
    "                #print()\n",
    "                #print(np.array(res))\n",
    "                #print()\n",
    "    return(res)\n",
    "\n",
    "\n"
   ]
  },
  {
   "cell_type": "code",
   "execution_count": 63,
   "id": "b4557582-a050-42a4-8001-5225e5a30d7f",
   "metadata": {},
   "outputs": [],
   "source": [
    "# Vérification\n",
    "\n",
    "assert(produit([[1, 2], [3, 4]], [[1, 2], [3, 4]]) == [[7, 10], [15, 22]])"
   ]
  },
  {
   "cell_type": "code",
   "execution_count": 64,
   "id": "a04cfaef-513c-41a4-ae6e-8a9aee4a6cca",
   "metadata": {},
   "outputs": [],
   "source": [
    "#produit(A, A)"
   ]
  },
  {
   "cell_type": "code",
   "execution_count": 65,
   "id": "27645edc-c5ed-4c42-90ad-bbea79ee4979",
   "metadata": {},
   "outputs": [],
   "source": [
    "# Sortons le chronomètre\n",
    "#%timeit produit(A, A)"
   ]
  },
  {
   "cell_type": "code",
   "execution_count": 66,
   "id": "5658e3cc-5ad1-459d-b18d-dece00e03da0",
   "metadata": {},
   "outputs": [],
   "source": [
    "# Et maintenant, avec numpy !\n",
    "import numpy as np"
   ]
  },
  {
   "cell_type": "code",
   "execution_count": 67,
   "id": "39003f54-3a1b-4df2-a68e-6e0bb54e2468",
   "metadata": {},
   "outputs": [
    {
     "name": "stdout",
     "output_type": "stream",
     "text": [
      "[[7.86100781e-01 4.11060995e-01 7.21221560e-01 2.85432969e-02\n",
      "  4.66272193e-01 3.89098590e-02 8.83927774e-02 1.75939760e-02\n",
      "  6.23475145e-01 3.62187212e-01 4.81507496e-01 4.50588684e-01\n",
      "  2.05253812e-02 7.06079628e-02 1.37273504e-01 8.33434656e-01\n",
      "  3.56359832e-01 9.56128064e-01 7.16365401e-01 8.21642709e-01\n",
      "  2.93705243e-02 4.55646164e-01 1.44563444e-01 5.76624588e-01\n",
      "  9.36274264e-01 9.32198119e-01 9.78615312e-01 5.75955671e-01\n",
      "  6.40231929e-01 7.59516841e-01]\n",
      " [3.96119062e-01 6.83253910e-01 3.63970821e-01 2.11274513e-01\n",
      "  5.92553152e-01 9.75063326e-01 4.16261150e-01 6.01171926e-01\n",
      "  1.32606119e-01 1.84078285e-01 2.73554312e-01 6.67583437e-01\n",
      "  1.06133051e-01 4.79765415e-02 4.78175548e-01 2.85511652e-02\n",
      "  5.36301105e-01 2.99394684e-01 6.21879721e-01 3.62486917e-01\n",
      "  4.52424175e-01 4.93224592e-01 5.62384163e-01 6.35398512e-01\n",
      "  7.75599816e-01 9.33398573e-01 4.11137276e-01 9.20629245e-01\n",
      "  4.18367116e-01 7.40185939e-01]\n",
      " [5.92977126e-01 8.87255131e-01 1.19299737e-01 8.94521498e-01\n",
      "  6.06518034e-02 2.22130336e-01 9.40218486e-01 6.96140292e-01\n",
      "  7.85071958e-01 4.40384235e-01 8.51323010e-01 6.09632563e-01\n",
      "  1.94807474e-01 7.56212225e-01 3.20353940e-01 7.22046721e-01\n",
      "  9.12818649e-01 6.75081709e-01 2.51542674e-01 7.50412529e-02\n",
      "  1.00404874e-01 1.96219890e-01 2.65777287e-01 1.69332781e-01\n",
      "  7.19699272e-01 4.79769169e-01 7.73923164e-01 5.97853275e-03\n",
      "  8.97867172e-01 4.81296860e-01]\n",
      " [1.14173097e-01 6.40004101e-01 4.03413861e-01 1.19635689e-01\n",
      "  4.93419832e-01 3.11130182e-01 4.94698447e-01 2.12644287e-01\n",
      "  6.85509107e-01 1.03508304e-01 6.76865380e-02 3.27997200e-01\n",
      "  8.13758626e-01 9.70855422e-01 6.91945221e-01 1.01650944e-01\n",
      "  9.19334877e-01 9.63002994e-01 1.70333773e-01 8.46025241e-01\n",
      "  4.09683443e-01 7.85830109e-01 3.46729017e-01 9.82459846e-01\n",
      "  9.63849201e-01 8.77853665e-01 9.13833856e-01 6.92231649e-01\n",
      "  9.47879015e-01 1.12539546e-01]\n",
      " [1.98982081e-01 8.14722238e-01 1.94677063e-01 3.73486207e-01\n",
      "  5.40582802e-01 4.00419317e-01 3.27462287e-01 4.89862148e-01\n",
      "  6.82981704e-01 4.48122017e-01 5.33201822e-01 1.11523160e-01\n",
      "  6.37241916e-01 1.46194853e-01 7.70411974e-01 8.51526365e-01\n",
      "  3.34881903e-01 2.67785769e-01 1.68494076e-01 8.22188921e-01\n",
      "  7.17492621e-01 8.19469266e-02 2.88082961e-01 3.53439016e-01\n",
      "  1.79454702e-01 3.89234035e-02 8.69444304e-01 8.50980213e-01\n",
      "  5.35968355e-01 5.08273449e-01]\n",
      " [8.34958610e-01 5.11301101e-01 3.19772456e-01 4.44113608e-01\n",
      "  5.72118273e-01 7.40623935e-01 3.93185226e-01 1.40471341e-01\n",
      "  8.32030461e-01 5.76577089e-01 9.11444489e-01 3.66622164e-01\n",
      "  1.37793187e-01 9.55405374e-02 1.61382830e-01 9.77143459e-01\n",
      "  6.19490213e-01 7.93395827e-01 3.56088836e-01 7.96825032e-01\n",
      "  4.46063053e-01 5.48550410e-01 9.47416881e-02 7.82497214e-01\n",
      "  6.97133266e-02 4.42392038e-01 8.90417837e-01 8.58424088e-01\n",
      "  8.13241856e-01 4.55392498e-01]\n",
      " [3.43892125e-01 7.81333332e-01 9.91372641e-01 7.76104421e-01\n",
      "  5.54851302e-01 3.09224492e-01 3.87390351e-01 5.56171896e-01\n",
      "  9.11077838e-01 6.16243627e-01 6.13666384e-01 6.49245064e-01\n",
      "  6.12820689e-01 7.78410060e-02 1.29542529e-01 2.47183603e-03\n",
      "  1.01641938e-01 9.05514178e-01 2.52713391e-01 7.72724813e-01\n",
      "  4.76660639e-01 7.44762147e-01 9.02912391e-01 9.58137935e-01\n",
      "  5.33658218e-01 6.92516536e-01 2.82292236e-01 5.23014387e-01\n",
      "  5.81658602e-01 6.56599774e-01]\n",
      " [6.59946881e-01 1.73902962e-01 6.53071282e-01 6.06804074e-01\n",
      "  6.94838468e-01 3.26756857e-01 1.67309915e-01 9.46484394e-01\n",
      "  5.36409236e-01 5.24152816e-01 1.93910179e-01 5.44946719e-02\n",
      "  5.17188496e-01 4.00636449e-01 1.61174766e-01 5.17061603e-01\n",
      "  8.61186780e-01 3.66668336e-01 6.05847074e-01 7.82269415e-01\n",
      "  2.46549749e-01 2.42882133e-01 2.97421068e-01 1.43027542e-01\n",
      "  5.00536553e-01 6.89155718e-01 8.82533298e-01 4.27644394e-01\n",
      "  1.56721995e-01 4.23569929e-01]\n",
      " [3.39943923e-01 8.14864608e-01 8.58958839e-02 2.98741038e-01\n",
      "  5.90168851e-01 8.68947100e-01 9.08755438e-01 1.15894506e-01\n",
      "  2.05322779e-01 1.45104683e-02 4.64576584e-03 8.20483146e-01\n",
      "  7.47679762e-01 9.16391290e-01 1.66499970e-01 5.13492708e-01\n",
      "  1.57072782e-01 6.30397980e-01 4.99513809e-01 5.11525228e-01\n",
      "  2.96106157e-01 6.19191469e-01 4.69794490e-01 8.82787716e-01\n",
      "  7.97981460e-02 7.30225238e-01 5.85231535e-01 6.84692776e-01\n",
      "  5.03570122e-02 9.26275824e-01]\n",
      " [5.33352220e-02 3.94791721e-01 5.22959942e-01 6.14856275e-02\n",
      "  8.44441220e-01 1.67468305e-03 1.67795713e-03 5.64478191e-01\n",
      "  8.00587854e-02 4.86727508e-01 1.03970615e-01 5.47021401e-02\n",
      "  6.49581380e-01 5.42744531e-01 2.04475156e-02 4.24879073e-01\n",
      "  7.69017785e-01 3.91719967e-01 2.46933106e-02 9.68203863e-01\n",
      "  3.67625269e-01 7.12864722e-01 5.22141674e-01 6.42140691e-01\n",
      "  4.70118404e-01 8.15164757e-01 1.16212261e-01 6.62015737e-01\n",
      "  3.61590830e-01 7.14960461e-01]\n",
      " [6.17150805e-01 9.27540032e-01 7.77405360e-01 2.82291634e-01\n",
      "  9.03708972e-01 5.90671060e-01 6.93929038e-01 9.57819680e-01\n",
      "  8.76072637e-01 3.94508186e-01 3.19268543e-02 3.09620556e-01\n",
      "  8.32405912e-01 7.63397848e-01 2.38842343e-01 2.72305849e-01\n",
      "  3.93616377e-01 2.28217851e-01 8.81599612e-01 5.41733530e-01\n",
      "  4.23255513e-01 4.16362252e-01 8.37695137e-01 8.41105236e-01\n",
      "  5.33896009e-01 4.53653266e-01 5.96744185e-01 6.18636604e-01\n",
      "  3.59637761e-01 1.84998253e-01]\n",
      " [2.78725123e-01 6.80793055e-01 8.68773997e-01 1.19801603e-01\n",
      "  9.09178585e-01 9.09111297e-01 7.60754263e-01 7.95461893e-01\n",
      "  3.14731620e-01 7.98096931e-01 4.83991474e-01 8.79818596e-01\n",
      "  1.22176088e-02 1.56696860e-01 6.49147735e-02 2.66967346e-02\n",
      "  1.22247916e-01 8.46737720e-01 5.50288755e-01 6.13346240e-01\n",
      "  6.56469655e-02 3.88436642e-01 9.74586292e-01 6.29608255e-03\n",
      "  5.57956044e-01 5.41742687e-01 2.10663132e-02 5.03085716e-01\n",
      "  3.14199492e-01 8.59748588e-01]\n",
      " [3.43799954e-01 3.11619265e-01 8.30060413e-01 1.24861324e-01\n",
      "  2.32955432e-01 2.54173084e-01 5.68355535e-01 4.34735687e-01\n",
      "  2.03467812e-02 2.91468422e-01 6.99679343e-01 2.22811294e-01\n",
      "  2.18035031e-01 6.66615795e-01 8.56095413e-01 5.48475678e-01\n",
      "  6.41227627e-01 7.32469650e-01 5.05443667e-01 8.34973424e-01\n",
      "  9.12822377e-01 6.11078935e-02 4.27309960e-02 8.18141573e-01\n",
      "  8.96131705e-01 3.89153992e-01 5.54703511e-01 6.63063865e-01\n",
      "  7.04727744e-01 7.76417025e-01]\n",
      " [8.42940392e-01 1.23042465e-01 6.95747180e-01 5.63569327e-01\n",
      "  3.01843806e-01 9.01781378e-01 8.29259594e-01 4.79127373e-01\n",
      "  5.36620525e-01 3.82068089e-01 3.21928540e-01 5.19646895e-01\n",
      "  5.41766745e-01 3.97316069e-01 5.55990816e-02 5.25308949e-01\n",
      "  6.73376398e-01 4.76263673e-01 5.03232368e-01 6.95978907e-01\n",
      "  4.62479159e-01 6.94379007e-01 1.23358560e-01 5.29388860e-01\n",
      "  4.79987473e-01 1.17287505e-01 1.53479131e-02 3.60086955e-01\n",
      "  4.41479958e-01 4.00882443e-02]\n",
      " [4.72179823e-01 5.40549453e-02 4.60574581e-01 9.97769546e-01\n",
      "  5.00701982e-01 7.60219574e-01 6.68729559e-01 4.06211559e-01\n",
      "  2.57473051e-01 5.59897878e-01 9.86970118e-01 1.61581017e-02\n",
      "  2.21265074e-01 3.75413456e-01 8.45296089e-01 5.45837891e-01\n",
      "  7.61702900e-01 3.00583995e-01 8.98015339e-01 3.29817700e-01\n",
      "  6.93697860e-01 9.77250560e-01 8.30052113e-01 2.76057292e-02\n",
      "  2.37696903e-01 7.83969517e-01 4.43482972e-01 8.34004462e-01\n",
      "  3.54511400e-01 9.65957048e-01]\n",
      " [4.64772849e-02 6.19970845e-01 5.55287151e-01 1.13397747e-01\n",
      "  9.63331664e-01 9.63764497e-01 2.59962403e-01 6.28075244e-01\n",
      "  2.71243299e-01 1.69121442e-01 7.90746759e-01 1.93981616e-01\n",
      "  3.92217910e-01 6.66146760e-01 3.04775903e-01 4.86204216e-01\n",
      "  5.92711602e-02 7.05065793e-02 6.67972996e-02 5.90514074e-03\n",
      "  4.21255665e-02 7.97031010e-01 6.58814494e-01 3.30764345e-01\n",
      "  2.80685369e-01 5.18627142e-03 6.14207671e-01 3.25553968e-01\n",
      "  1.70602588e-01 5.32246512e-01]\n",
      " [3.50372878e-01 9.39011567e-01 2.98362609e-01 4.12031976e-01\n",
      "  6.86856632e-01 5.61722678e-01 3.23639408e-01 6.66009674e-01\n",
      "  9.96825786e-01 3.11302721e-01 5.10165962e-01 3.33990771e-01\n",
      "  9.83361379e-01 7.75201980e-01 3.71402839e-01 7.25638690e-01\n",
      "  6.96329755e-01 3.53850410e-01 1.78263267e-01 4.17787920e-01\n",
      "  7.16954094e-01 9.04287852e-01 2.70108690e-01 9.83386998e-01\n",
      "  5.30005169e-01 4.38578049e-01 5.19362958e-02 4.40207094e-01\n",
      "  3.80580334e-01 1.82982234e-01]\n",
      " [9.71137923e-01 3.10077381e-01 9.34774100e-01 6.56888109e-01\n",
      "  5.55859337e-01 7.38906499e-01 1.98551345e-02 4.84822325e-01\n",
      "  1.53099881e-01 1.10610445e-01 1.16499688e-01 2.10520020e-01\n",
      "  1.82241301e-01 1.19077653e-01 9.87084161e-01 2.96071890e-01\n",
      "  2.36020870e-01 5.59933661e-01 1.33838930e-01 5.59515099e-01\n",
      "  5.17427836e-02 8.96826832e-01 6.46531774e-01 8.26655073e-01\n",
      "  2.42924124e-01 8.97061872e-01 3.15577004e-01 2.24937357e-01\n",
      "  4.60314572e-01 2.54368724e-01]\n",
      " [3.24965173e-01 2.89973316e-01 4.89391866e-01 4.18525058e-01\n",
      "  5.70699395e-01 1.20558847e-01 4.13749511e-01 5.47379274e-01\n",
      "  3.22655620e-01 4.37380548e-01 9.99388809e-01 9.68144101e-01\n",
      "  6.31645455e-01 8.76181290e-01 5.25047169e-01 2.00147465e-01\n",
      "  2.00079657e-01 3.63273483e-01 5.47535290e-01 1.40981070e-01\n",
      "  5.15513854e-01 2.95441136e-01 1.21240466e-01 8.99820734e-02\n",
      "  2.73894676e-01 1.01087912e-02 5.17817653e-01 9.53981894e-02\n",
      "  9.76948209e-01 2.87087506e-01]\n",
      " [7.71824800e-01 7.27285268e-01 8.57561821e-02 3.73862184e-02\n",
      "  1.10726809e-01 8.20783073e-01 1.72706106e-01 9.76343196e-01\n",
      "  3.67978892e-01 5.04903106e-01 8.90096055e-01 6.50618773e-01\n",
      "  8.37350302e-01 7.85817546e-01 8.17213347e-01 1.10684373e-03\n",
      "  4.12430113e-01 5.13049028e-01 5.15548901e-01 6.46369926e-01\n",
      "  7.34885589e-01 5.10923172e-01 6.81080144e-01 9.38728777e-01\n",
      "  5.11578881e-01 1.66137044e-01 1.49285333e-01 9.81561323e-01\n",
      "  5.23219424e-01 4.97537689e-01]\n",
      " [2.01425399e-01 6.54111056e-02 3.61389266e-01 1.43949097e-02\n",
      "  4.05383705e-01 8.96912944e-01 6.12601723e-01 4.33476000e-01\n",
      "  7.71298756e-01 1.14142959e-01 3.29580042e-01 2.21184001e-01\n",
      "  8.24317652e-01 3.89295052e-01 3.08393814e-01 3.02624614e-01\n",
      "  1.97703397e-01 8.30711718e-01 1.45912520e-01 7.73097839e-01\n",
      "  9.76328665e-01 3.46435421e-02 8.67312471e-02 2.77580565e-01\n",
      "  9.61637564e-01 6.20157035e-01 5.80115172e-01 1.37650988e-01\n",
      "  7.40999479e-01 1.25010010e-01]\n",
      " [5.96374330e-01 3.36136661e-02 3.85594425e-01 5.94142814e-01\n",
      "  5.43323112e-01 6.65628192e-01 4.68271085e-01 1.10886217e-01\n",
      "  3.93762190e-01 2.44056439e-01 3.21202254e-01 9.46469054e-02\n",
      "  4.73652917e-01 1.38880302e-01 6.25177163e-01 4.07330409e-01\n",
      "  1.93311162e-01 9.75178263e-02 7.63247191e-03 6.39986887e-01\n",
      "  3.76862647e-01 7.36988260e-02 4.71334187e-01 3.92076953e-01\n",
      "  7.61796954e-01 5.49075034e-01 1.52650223e-01 7.75240600e-01\n",
      "  4.70349274e-01 2.83036035e-01]\n",
      " [9.40233257e-01 9.65561315e-01 7.67561255e-01 3.83109192e-01\n",
      "  1.23743067e-01 9.60634702e-01 7.63349427e-01 2.28946496e-01\n",
      "  9.93793744e-01 9.34644217e-01 3.67353782e-01 4.34961185e-01\n",
      "  8.24818116e-01 7.42827174e-01 7.02139945e-01 9.23037256e-01\n",
      "  8.83196162e-01 7.70785467e-01 7.13808197e-01 1.86935349e-01\n",
      "  7.35254107e-01 9.11082656e-01 7.64369453e-01 8.36004094e-01\n",
      "  7.22695354e-01 1.84548043e-02 1.12636967e-01 2.05026950e-01\n",
      "  1.50748047e-01 2.21397055e-01]\n",
      " [5.33535638e-01 7.32967275e-01 8.98731343e-01 5.99644422e-01\n",
      "  4.69208082e-01 1.53316291e-02 5.00511352e-01 7.83747718e-01\n",
      "  8.52911017e-01 2.54062038e-01 5.73135722e-01 7.80557472e-01\n",
      "  3.05260831e-01 7.23654910e-02 7.57034029e-01 4.66773193e-01\n",
      "  8.43388833e-01 3.34351872e-01 6.87829070e-01 1.76846529e-01\n",
      "  3.89176406e-01 6.51637106e-01 9.17276132e-01 6.84225767e-01\n",
      "  4.76793565e-01 8.45777131e-03 5.28349939e-01 2.95230439e-01\n",
      "  7.90929738e-01 7.10285148e-01]\n",
      " [8.71845736e-01 6.98158760e-01 2.47028092e-02 5.98284762e-02\n",
      "  5.94416401e-02 5.53827215e-01 2.33468383e-01 5.18975338e-01\n",
      "  2.45355730e-01 6.85109573e-01 6.02765657e-01 2.62096358e-02\n",
      "  6.68373854e-01 8.74777392e-02 1.98236837e-01 3.27387847e-01\n",
      "  3.47175234e-01 2.31547692e-01 5.01326399e-02 1.57690701e-01\n",
      "  8.77601737e-01 1.12865348e-02 2.99843322e-01 3.08527752e-01\n",
      "  6.48548357e-01 8.81460703e-01 3.45539805e-01 6.68703195e-01\n",
      "  8.57645570e-01 4.97084095e-01]\n",
      " [1.33272648e-01 9.86827685e-01 4.16753293e-01 3.73273888e-01\n",
      "  9.92110872e-01 4.25309842e-01 1.77469056e-01 5.01999756e-01\n",
      "  3.52553721e-01 2.26371914e-01 7.89746682e-01 7.42907711e-01\n",
      "  2.83467742e-01 3.25166613e-01 5.24468813e-01 9.96684432e-01\n",
      "  3.00017680e-01 6.53049024e-01 9.01395975e-01 2.75768169e-01\n",
      "  8.82257661e-01 8.79319131e-01 1.09367860e-04 9.04252943e-03\n",
      "  9.47810395e-02 5.46097568e-01 9.38936057e-02 2.98357473e-03\n",
      "  3.36644183e-01 7.19691715e-01]\n",
      " [4.33676943e-01 5.04883643e-01 7.34467944e-01 7.83479203e-01\n",
      "  1.48094359e-01 7.70585417e-01 9.11345173e-01 4.18710142e-01\n",
      "  5.50662310e-02 5.93525824e-01 5.43790613e-01 5.99349007e-01\n",
      "  5.46070027e-01 6.74064584e-01 6.04184891e-01 8.46121411e-01\n",
      "  4.11555923e-01 2.03022300e-01 5.91510230e-01 1.28586473e-01\n",
      "  3.76030836e-01 1.18982583e-01 3.64224265e-01 7.32685141e-01\n",
      "  9.39170680e-01 6.43904886e-02 8.55759871e-02 2.18197449e-01\n",
      "  2.14493299e-01 3.92798496e-01]\n",
      " [8.71110151e-01 9.19680604e-01 2.95251538e-01 5.75743334e-01\n",
      "  6.58158587e-01 5.90670381e-01 3.70744189e-01 7.13578632e-01\n",
      "  3.08854320e-01 6.97972972e-01 1.68748570e-01 9.99732344e-01\n",
      "  2.27106162e-01 1.46567057e-02 3.46054935e-01 7.51605711e-01\n",
      "  1.24699426e-01 3.87156355e-01 7.36653858e-01 1.03731056e-01\n",
      "  3.53473008e-01 8.91688939e-01 1.10730815e-01 2.40762689e-01\n",
      "  2.16703993e-01 9.00946720e-01 9.87238527e-01 1.77039119e-02\n",
      "  4.37704305e-02 5.86380409e-01]\n",
      " [6.26733079e-01 6.28109318e-01 3.10461602e-01 7.59499114e-01\n",
      "  4.31078664e-01 7.86371796e-01 9.12246324e-01 2.84225199e-01\n",
      "  8.84648726e-02 6.10566310e-01 3.20426692e-01 8.77602713e-01\n",
      "  2.38957502e-01 3.34288103e-01 7.56488831e-01 6.64018180e-01\n",
      "  9.12643894e-01 2.97570298e-04 3.51104958e-01 9.36291376e-01\n",
      "  2.36939669e-01 2.48614659e-01 5.51545256e-01 1.13604583e-01\n",
      "  2.15788962e-01 7.77023668e-02 1.29016776e-01 5.31885200e-01\n",
      "  7.86459652e-01 8.38451122e-01]\n",
      " [6.51119231e-02 3.49830043e-01 5.54317827e-01 4.87973642e-01\n",
      "  6.61119267e-01 8.87275623e-01 6.05874110e-01 3.60755077e-01\n",
      "  8.09009626e-02 9.74084473e-01 2.50584466e-01 8.40231213e-01\n",
      "  6.29998085e-02 8.45418175e-01 2.26231191e-01 9.48424794e-01\n",
      "  3.31516788e-01 5.80872748e-01 7.35535264e-01 2.60664094e-01\n",
      "  3.18980577e-01 5.61788923e-02 9.87009369e-01 8.75853389e-02\n",
      "  9.26789512e-01 7.51821577e-01 1.70495785e-01 9.83913738e-01\n",
      "  8.81375996e-01 9.96462377e-01]]\n"
     ]
    }
   ],
   "source": [
    "A2 = np.array(A)\n",
    "print(A2)"
   ]
  },
  {
   "cell_type": "code",
   "execution_count": 68,
   "id": "d4abaf47-4059-4e35-83e8-7ee9673c2e2e",
   "metadata": {},
   "outputs": [
    {
     "name": "stdout",
     "output_type": "stream",
     "text": [
      "268 µs ± 7.02 µs per loop (mean ± std. dev. of 7 runs, 1000 loops each)\n"
     ]
    }
   ],
   "source": [
    "%timeit np.dot(A, A)"
   ]
  },
  {
   "cell_type": "markdown",
   "id": "79928725-48a4-4dd2-ae50-99783ed90d87",
   "metadata": {},
   "source": [
    "EXERCICE - Remplissez le tableau suivant avec les durées d'exécution constatées :\n",
    "\n",
    "(Conseil : pour la taille 3000, essayez UNIQUEMENT avec numpy)\n",
    "\n",
    "Taille | Python | numpy\n",
    "-------|--------|-------\n",
    "30     | 8.29 ms| 288 µs\n",
    "300    | 8.92 s | 326 µs\n",
    "3000   | 2H40min| 2.75 s "
   ]
  },
  {
   "cell_type": "markdown",
   "id": "f83a4e6a-95b0-46fa-8109-10765c3997f1",
   "metadata": {},
   "source": [
    "###  Pandas"
   ]
  },
  {
   "cell_type": "code",
   "execution_count": 69,
   "id": "9f767f8d-333c-41ff-b5ed-45b840466af9",
   "metadata": {},
   "outputs": [],
   "source": [
    "import pandas as pd"
   ]
  },
  {
   "cell_type": "code",
   "execution_count": 70,
   "id": "7ea3ab2b-4c8c-4217-99ab-8135a7ba08b7",
   "metadata": {},
   "outputs": [
    {
     "data": {
      "text/html": [
       "<div>\n",
       "<style scoped>\n",
       "    .dataframe tbody tr th:only-of-type {\n",
       "        vertical-align: middle;\n",
       "    }\n",
       "\n",
       "    .dataframe tbody tr th {\n",
       "        vertical-align: top;\n",
       "    }\n",
       "\n",
       "    .dataframe thead th {\n",
       "        text-align: right;\n",
       "    }\n",
       "</style>\n",
       "<table border=\"1\" class=\"dataframe\">\n",
       "  <thead>\n",
       "    <tr style=\"text-align: right;\">\n",
       "      <th></th>\n",
       "      <th>ESN</th>\n",
       "      <th>panne</th>\n",
       "    </tr>\n",
       "  </thead>\n",
       "  <tbody>\n",
       "    <tr>\n",
       "      <th>0</th>\n",
       "      <td>E420912</td>\n",
       "      <td>False</td>\n",
       "    </tr>\n",
       "    <tr>\n",
       "      <th>1</th>\n",
       "      <td>E420913</td>\n",
       "      <td>False</td>\n",
       "    </tr>\n",
       "    <tr>\n",
       "      <th>2</th>\n",
       "      <td>E420914</td>\n",
       "      <td>True</td>\n",
       "    </tr>\n",
       "  </tbody>\n",
       "</table>\n",
       "</div>"
      ],
      "text/plain": [
       "       ESN  panne\n",
       "0  E420912  False\n",
       "1  E420913  False\n",
       "2  E420914   True"
      ]
     },
     "execution_count": 70,
     "metadata": {},
     "output_type": "execute_result"
    }
   ],
   "source": [
    "df_exemple = pd.DataFrame({\"ESN\": [\"E420912\", \"E420913\", \"E420914\"], \"panne\": [False, False, True]})\n",
    "df_exemple"
   ]
  },
  {
   "cell_type": "markdown",
   "id": "3eaef54e-f9f2-486d-8e11-4519680a764b",
   "metadata": {},
   "source": [
    "#### Lecture et prétraitement de données\n"
   ]
  },
  {
   "cell_type": "code",
   "execution_count": 71,
   "id": "ad2c6594-9610-49c7-bf08-81f64d718d63",
   "metadata": {},
   "outputs": [
    {
     "name": "stderr",
     "output_type": "stream",
     "text": [
      "Cloning into 'MACS3-Statistiques-Descriptives-TDs'...\n"
     ]
    }
   ],
   "source": [
    "!git clone https://github.com/MadaneA/MACS3-Statistiques-Descriptives-TDs.git"
   ]
  },
  {
   "cell_type": "code",
   "execution_count": 72,
   "id": "485f489e-365c-4abc-ae1c-223e921b8123",
   "metadata": {},
   "outputs": [],
   "source": [
    "import os\n",
    "os.chdir('MACS3-Statistiques-Descriptives-TDs')"
   ]
  },
  {
   "cell_type": "code",
   "execution_count": 73,
   "id": "78c64597-73b2-443c-b0cf-aa2989f6ef8d",
   "metadata": {},
   "outputs": [
    {
     "data": {
      "text/html": [
       "<div>\n",
       "<style scoped>\n",
       "    .dataframe tbody tr th:only-of-type {\n",
       "        vertical-align: middle;\n",
       "    }\n",
       "\n",
       "    .dataframe tbody tr th {\n",
       "        vertical-align: top;\n",
       "    }\n",
       "\n",
       "    .dataframe thead th {\n",
       "        text-align: right;\n",
       "    }\n",
       "</style>\n",
       "<table border=\"1\" class=\"dataframe\">\n",
       "  <thead>\n",
       "    <tr style=\"text-align: right;\">\n",
       "      <th></th>\n",
       "      <th>t</th>\n",
       "      <th>EGT_SEL</th>\n",
       "      <th>FLIGHT_MOD</th>\n",
       "      <th>FMV_SEL</th>\n",
       "      <th>HPTC_SEL</th>\n",
       "      <th>LPTC_SEL</th>\n",
       "      <th>N1_SEL</th>\n",
       "      <th>N2_ACTSEL</th>\n",
       "      <th>OIL_P</th>\n",
       "      <th>OIL_TEMP</th>\n",
       "      <th>...</th>\n",
       "      <th>T25_SEL</th>\n",
       "      <th>T3_SEL</th>\n",
       "      <th>VBV_SEL</th>\n",
       "      <th>VIB_CN1</th>\n",
       "      <th>VIB_CN2</th>\n",
       "      <th>VIB_TN1</th>\n",
       "      <th>VIB_TN2</th>\n",
       "      <th>VSV_SEL</th>\n",
       "      <th>WFM_SEL</th>\n",
       "      <th>XM</th>\n",
       "    </tr>\n",
       "  </thead>\n",
       "  <tbody>\n",
       "    <tr>\n",
       "      <th>0</th>\n",
       "      <td>datenum</td>\n",
       "      <td>deg_C</td>\n",
       "      <td>_</td>\n",
       "      <td>_</td>\n",
       "      <td>%</td>\n",
       "      <td>%</td>\n",
       "      <td>%</td>\n",
       "      <td>%_RPM</td>\n",
       "      <td>psi</td>\n",
       "      <td>_</td>\n",
       "      <td>...</td>\n",
       "      <td>_</td>\n",
       "      <td>_</td>\n",
       "      <td>DEG</td>\n",
       "      <td>_</td>\n",
       "      <td>_</td>\n",
       "      <td>_</td>\n",
       "      <td>_</td>\n",
       "      <td>DEG</td>\n",
       "      <td>lb/h</td>\n",
       "      <td>mach</td>\n",
       "    </tr>\n",
       "    <tr>\n",
       "      <th>1</th>\n",
       "      <td>15/09/2011 14:25:58.125</td>\n",
       "      <td>NaN</td>\n",
       "      <td>NaN</td>\n",
       "      <td>NaN</td>\n",
       "      <td>NaN</td>\n",
       "      <td>NaN</td>\n",
       "      <td>NaN</td>\n",
       "      <td>0</td>\n",
       "      <td>NaN</td>\n",
       "      <td>NaN</td>\n",
       "      <td>...</td>\n",
       "      <td>NaN</td>\n",
       "      <td>NaN</td>\n",
       "      <td>NaN</td>\n",
       "      <td>NaN</td>\n",
       "      <td>NaN</td>\n",
       "      <td>NaN</td>\n",
       "      <td>NaN</td>\n",
       "      <td>NaN</td>\n",
       "      <td>NaN</td>\n",
       "      <td>NaN</td>\n",
       "    </tr>\n",
       "    <tr>\n",
       "      <th>2</th>\n",
       "      <td>15/09/2011 14:25:58.375</td>\n",
       "      <td>NaN</td>\n",
       "      <td>NaN</td>\n",
       "      <td>NaN</td>\n",
       "      <td>NaN</td>\n",
       "      <td>NaN</td>\n",
       "      <td>NaN</td>\n",
       "      <td>0</td>\n",
       "      <td>NaN</td>\n",
       "      <td>NaN</td>\n",
       "      <td>...</td>\n",
       "      <td>NaN</td>\n",
       "      <td>NaN</td>\n",
       "      <td>NaN</td>\n",
       "      <td>NaN</td>\n",
       "      <td>NaN</td>\n",
       "      <td>NaN</td>\n",
       "      <td>NaN</td>\n",
       "      <td>NaN</td>\n",
       "      <td>NaN</td>\n",
       "      <td>NaN</td>\n",
       "    </tr>\n",
       "    <tr>\n",
       "      <th>3</th>\n",
       "      <td>15/09/2011 14:25:58.625</td>\n",
       "      <td>NaN</td>\n",
       "      <td>NaN</td>\n",
       "      <td>NaN</td>\n",
       "      <td>NaN</td>\n",
       "      <td>NaN</td>\n",
       "      <td>NaN</td>\n",
       "      <td>0</td>\n",
       "      <td>NaN</td>\n",
       "      <td>NaN</td>\n",
       "      <td>...</td>\n",
       "      <td>NaN</td>\n",
       "      <td>NaN</td>\n",
       "      <td>NaN</td>\n",
       "      <td>NaN</td>\n",
       "      <td>NaN</td>\n",
       "      <td>NaN</td>\n",
       "      <td>NaN</td>\n",
       "      <td>NaN</td>\n",
       "      <td>NaN</td>\n",
       "      <td>NaN</td>\n",
       "    </tr>\n",
       "    <tr>\n",
       "      <th>4</th>\n",
       "      <td>15/09/2011 14:25:58.875</td>\n",
       "      <td>NaN</td>\n",
       "      <td>NaN</td>\n",
       "      <td>NaN</td>\n",
       "      <td>NaN</td>\n",
       "      <td>NaN</td>\n",
       "      <td>NaN</td>\n",
       "      <td>0</td>\n",
       "      <td>NaN</td>\n",
       "      <td>NaN</td>\n",
       "      <td>...</td>\n",
       "      <td>NaN</td>\n",
       "      <td>NaN</td>\n",
       "      <td>NaN</td>\n",
       "      <td>NaN</td>\n",
       "      <td>NaN</td>\n",
       "      <td>NaN</td>\n",
       "      <td>NaN</td>\n",
       "      <td>NaN</td>\n",
       "      <td>7679.98</td>\n",
       "      <td>0.15</td>\n",
       "    </tr>\n",
       "  </tbody>\n",
       "</table>\n",
       "<p>5 rows × 26 columns</p>\n",
       "</div>"
      ],
      "text/plain": [
       "                         t EGT_SEL FLIGHT_MOD FMV_SEL HPTC_SEL LPTC_SEL  \\\n",
       "0                  datenum   deg_C          _       _        %        %   \n",
       "1  15/09/2011 14:25:58.125     NaN        NaN     NaN      NaN      NaN   \n",
       "2  15/09/2011 14:25:58.375     NaN        NaN     NaN      NaN      NaN   \n",
       "3  15/09/2011 14:25:58.625     NaN        NaN     NaN      NaN      NaN   \n",
       "4  15/09/2011 14:25:58.875     NaN        NaN     NaN      NaN      NaN   \n",
       "\n",
       "  N1_SEL N2_ACTSEL OIL_P OIL_TEMP  ... T25_SEL T3_SEL VBV_SEL VIB_CN1 VIB_CN2  \\\n",
       "0      %     %_RPM   psi        _  ...       _      _     DEG       _       _   \n",
       "1    NaN         0   NaN      NaN  ...     NaN    NaN     NaN     NaN     NaN   \n",
       "2    NaN         0   NaN      NaN  ...     NaN    NaN     NaN     NaN     NaN   \n",
       "3    NaN         0   NaN      NaN  ...     NaN    NaN     NaN     NaN     NaN   \n",
       "4    NaN         0   NaN      NaN  ...     NaN    NaN     NaN     NaN     NaN   \n",
       "\n",
       "  VIB_TN1 VIB_TN2 VSV_SEL  WFM_SEL    XM  \n",
       "0       _       _     DEG     lb/h  mach  \n",
       "1     NaN     NaN     NaN      NaN   NaN  \n",
       "2     NaN     NaN     NaN      NaN   NaN  \n",
       "3     NaN     NaN     NaN      NaN   NaN  \n",
       "4     NaN     NaN     NaN  7679.98  0.15  \n",
       "\n",
       "[5 rows x 26 columns]"
      ]
     },
     "execution_count": 73,
     "metadata": {},
     "output_type": "execute_result"
    }
   ],
   "source": [
    "# Chargement d'un fichier CSV ou Excel\n",
    "df = pd.read_csv(\"./data/Vol010.csv\")\n",
    "# Affichage des 5 premières lignes\n",
    "df.head()"
   ]
  },
  {
   "cell_type": "code",
   "execution_count": 74,
   "id": "eb4f6d36-3859-4e29-bf52-2b22a1315450",
   "metadata": {},
   "outputs": [
    {
     "name": "stdout",
     "output_type": "stream",
     "text": [
      "Nombre de colonnes : 26\n",
      "Nombre de lignes : 22945\n"
     ]
    }
   ],
   "source": [
    "\"\"\"\n",
    "EXERCICE - Dimensions d'un DataFrame\n",
    "Affichez le nombre de colonnes et de ligne du DataFrame (indice : beaucoup de méthodes sont communes entre numpy et pandas)\n",
    "\"\"\"\n",
    "print('Nombre de colonnes :', df.shape[1])\n",
    "print('Nombre de lignes :', df.shape[0])"
   ]
  },
  {
   "cell_type": "code",
   "execution_count": 75,
   "id": "750285eb-c7a4-4add-a456-ca7dba6da8d3",
   "metadata": {},
   "outputs": [
    {
     "data": {
      "text/plain": [
       "(596570, 22945)"
      ]
     },
     "execution_count": 75,
     "metadata": {},
     "output_type": "execute_result"
    }
   ],
   "source": [
    "df.size, len(df)"
   ]
  },
  {
   "cell_type": "code",
   "execution_count": 76,
   "id": "7a84eae1-7967-4fcb-8ea3-6b75a4114c44",
   "metadata": {},
   "outputs": [
    {
     "data": {
      "text/plain": [
       "Index(['t', 'EGT_SEL', 'FLIGHT_MOD', 'FMV_SEL', 'HPTC_SEL', 'LPTC_SEL',\n",
       "       'N1_SEL', 'N2_ACTSEL', 'OIL_P', 'OIL_TEMP', 'PS3_SEL', 'PT2_SEL',\n",
       "       'P0_SEL', 'TAT', 'TBV_SEL', 'TRA_SEL', 'T25_SEL', 'T3_SEL', 'VBV_SEL',\n",
       "       'VIB_CN1', 'VIB_CN2', 'VIB_TN1', 'VIB_TN2', 'VSV_SEL', 'WFM_SEL', 'XM'],\n",
       "      dtype='object')"
      ]
     },
     "execution_count": 76,
     "metadata": {},
     "output_type": "execute_result"
    }
   ],
   "source": [
    "df.columns"
   ]
  },
  {
   "cell_type": "markdown",
   "id": "b6d406bd-7963-48c0-b02a-a072a091ca10",
   "metadata": {},
   "source": [
    "Les colonnes des DF sont typées, à la manière d'une base de données relationnelle, contrairement aux variables python classiques. Les types des colonnes sont accessibles via df.dtypes. Les principaux types sont les numériques (int32, int64, float etc."
   ]
  },
  {
   "cell_type": "code",
   "execution_count": 77,
   "id": "ab0b2e8b-c7f1-40dd-855c-150d726370d3",
   "metadata": {},
   "outputs": [
    {
     "data": {
      "text/html": [
       "<div>\n",
       "<style scoped>\n",
       "    .dataframe tbody tr th:only-of-type {\n",
       "        vertical-align: middle;\n",
       "    }\n",
       "\n",
       "    .dataframe tbody tr th {\n",
       "        vertical-align: top;\n",
       "    }\n",
       "\n",
       "    .dataframe thead th {\n",
       "        text-align: right;\n",
       "    }\n",
       "</style>\n",
       "<table border=\"1\" class=\"dataframe\">\n",
       "  <thead>\n",
       "    <tr style=\"text-align: right;\">\n",
       "      <th></th>\n",
       "      <th>EGT_SEL</th>\n",
       "      <th>FLIGHT_MOD</th>\n",
       "    </tr>\n",
       "  </thead>\n",
       "  <tbody>\n",
       "    <tr>\n",
       "      <th>10</th>\n",
       "      <td>0.00234327</td>\n",
       "      <td>NaN</td>\n",
       "    </tr>\n",
       "    <tr>\n",
       "      <th>11</th>\n",
       "      <td>1.08032e-007</td>\n",
       "      <td>NaN</td>\n",
       "    </tr>\n",
       "    <tr>\n",
       "      <th>12</th>\n",
       "      <td>3.12514e-012</td>\n",
       "      <td>NaN</td>\n",
       "    </tr>\n",
       "    <tr>\n",
       "      <th>13</th>\n",
       "      <td>0</td>\n",
       "      <td>NaN</td>\n",
       "    </tr>\n",
       "    <tr>\n",
       "      <th>14</th>\n",
       "      <td>72.0006</td>\n",
       "      <td>NaN</td>\n",
       "    </tr>\n",
       "    <tr>\n",
       "      <th>15</th>\n",
       "      <td>215.996</td>\n",
       "      <td>NaN</td>\n",
       "    </tr>\n",
       "  </tbody>\n",
       "</table>\n",
       "</div>"
      ],
      "text/plain": [
       "         EGT_SEL FLIGHT_MOD\n",
       "10    0.00234327        NaN\n",
       "11  1.08032e-007        NaN\n",
       "12  3.12514e-012        NaN\n",
       "13             0        NaN\n",
       "14       72.0006        NaN\n",
       "15       215.996        NaN"
      ]
     },
     "execution_count": 77,
     "metadata": {},
     "output_type": "execute_result"
    }
   ],
   "source": [
    "df.loc[10:15, ['EGT_SEL', 'FLIGHT_MOD']]"
   ]
  },
  {
   "cell_type": "code",
   "execution_count": 78,
   "id": "619de1e5-3826-457a-8f28-fde87421ad19",
   "metadata": {},
   "outputs": [],
   "source": [
    "\"\"\"\n",
    "EXERCICE - Extraction et suppression des unités\n",
    "On remarque que la 1ère ligne ne contient pas de données mais les unités de chaque colonne.\n",
    "Pour la suite des traitements, il faut supprimer cette ligne. On souhaite toutefois garder l'information des unités de chaque colonne.\n",
    "1. Récupérez les unités et stockez les dans une structure adaptée.\n",
    "2. Supprimez cette ligne du DataFrame en utilisant la méthode \"drop\"\n",
    "\"\"\"\n",
    "units=df.loc[0]\n",
    "df.drop(0,inplace=True)\n",
    "\n"
   ]
  },
  {
   "cell_type": "code",
   "execution_count": 79,
   "id": "553b87e6-f67a-4016-9501-c2f045a5ba2a",
   "metadata": {},
   "outputs": [
    {
     "name": "stdout",
     "output_type": "stream",
     "text": [
      "t             datenum\n",
      "EGT_SEL         deg_C\n",
      "FLIGHT_MOD          _\n",
      "FMV_SEL             _\n",
      "HPTC_SEL            %\n",
      "LPTC_SEL            %\n",
      "N1_SEL              %\n",
      "N2_ACTSEL       %_RPM\n",
      "OIL_P             psi\n",
      "OIL_TEMP            _\n",
      "PS3_SEL           psi\n",
      "PT2_SEL            mb\n",
      "P0_SEL            psi\n",
      "TAT             deg_C\n",
      "TBV_SEL             %\n",
      "TRA_SEL           DEG\n",
      "T25_SEL             _\n",
      "T3_SEL              _\n",
      "VBV_SEL           DEG\n",
      "VIB_CN1             _\n",
      "VIB_CN2             _\n",
      "VIB_TN1             _\n",
      "VIB_TN2             _\n",
      "VSV_SEL           DEG\n",
      "WFM_SEL          lb/h\n",
      "XM               mach\n",
      "Name: 0, dtype: object\n"
     ]
    },
    {
     "data": {
      "text/html": [
       "<div>\n",
       "<style scoped>\n",
       "    .dataframe tbody tr th:only-of-type {\n",
       "        vertical-align: middle;\n",
       "    }\n",
       "\n",
       "    .dataframe tbody tr th {\n",
       "        vertical-align: top;\n",
       "    }\n",
       "\n",
       "    .dataframe thead th {\n",
       "        text-align: right;\n",
       "    }\n",
       "</style>\n",
       "<table border=\"1\" class=\"dataframe\">\n",
       "  <thead>\n",
       "    <tr style=\"text-align: right;\">\n",
       "      <th></th>\n",
       "      <th>t</th>\n",
       "      <th>EGT_SEL</th>\n",
       "      <th>FLIGHT_MOD</th>\n",
       "      <th>FMV_SEL</th>\n",
       "      <th>HPTC_SEL</th>\n",
       "      <th>LPTC_SEL</th>\n",
       "      <th>N1_SEL</th>\n",
       "      <th>N2_ACTSEL</th>\n",
       "      <th>OIL_P</th>\n",
       "      <th>OIL_TEMP</th>\n",
       "      <th>...</th>\n",
       "      <th>T25_SEL</th>\n",
       "      <th>T3_SEL</th>\n",
       "      <th>VBV_SEL</th>\n",
       "      <th>VIB_CN1</th>\n",
       "      <th>VIB_CN2</th>\n",
       "      <th>VIB_TN1</th>\n",
       "      <th>VIB_TN2</th>\n",
       "      <th>VSV_SEL</th>\n",
       "      <th>WFM_SEL</th>\n",
       "      <th>XM</th>\n",
       "    </tr>\n",
       "  </thead>\n",
       "  <tbody>\n",
       "    <tr>\n",
       "      <th>1</th>\n",
       "      <td>15/09/2011 14:25:58.125</td>\n",
       "      <td>NaN</td>\n",
       "      <td>NaN</td>\n",
       "      <td>NaN</td>\n",
       "      <td>NaN</td>\n",
       "      <td>NaN</td>\n",
       "      <td>NaN</td>\n",
       "      <td>0</td>\n",
       "      <td>NaN</td>\n",
       "      <td>NaN</td>\n",
       "      <td>...</td>\n",
       "      <td>NaN</td>\n",
       "      <td>NaN</td>\n",
       "      <td>NaN</td>\n",
       "      <td>NaN</td>\n",
       "      <td>NaN</td>\n",
       "      <td>NaN</td>\n",
       "      <td>NaN</td>\n",
       "      <td>NaN</td>\n",
       "      <td>NaN</td>\n",
       "      <td>NaN</td>\n",
       "    </tr>\n",
       "    <tr>\n",
       "      <th>2</th>\n",
       "      <td>15/09/2011 14:25:58.375</td>\n",
       "      <td>NaN</td>\n",
       "      <td>NaN</td>\n",
       "      <td>NaN</td>\n",
       "      <td>NaN</td>\n",
       "      <td>NaN</td>\n",
       "      <td>NaN</td>\n",
       "      <td>0</td>\n",
       "      <td>NaN</td>\n",
       "      <td>NaN</td>\n",
       "      <td>...</td>\n",
       "      <td>NaN</td>\n",
       "      <td>NaN</td>\n",
       "      <td>NaN</td>\n",
       "      <td>NaN</td>\n",
       "      <td>NaN</td>\n",
       "      <td>NaN</td>\n",
       "      <td>NaN</td>\n",
       "      <td>NaN</td>\n",
       "      <td>NaN</td>\n",
       "      <td>NaN</td>\n",
       "    </tr>\n",
       "    <tr>\n",
       "      <th>3</th>\n",
       "      <td>15/09/2011 14:25:58.625</td>\n",
       "      <td>NaN</td>\n",
       "      <td>NaN</td>\n",
       "      <td>NaN</td>\n",
       "      <td>NaN</td>\n",
       "      <td>NaN</td>\n",
       "      <td>NaN</td>\n",
       "      <td>0</td>\n",
       "      <td>NaN</td>\n",
       "      <td>NaN</td>\n",
       "      <td>...</td>\n",
       "      <td>NaN</td>\n",
       "      <td>NaN</td>\n",
       "      <td>NaN</td>\n",
       "      <td>NaN</td>\n",
       "      <td>NaN</td>\n",
       "      <td>NaN</td>\n",
       "      <td>NaN</td>\n",
       "      <td>NaN</td>\n",
       "      <td>NaN</td>\n",
       "      <td>NaN</td>\n",
       "    </tr>\n",
       "    <tr>\n",
       "      <th>4</th>\n",
       "      <td>15/09/2011 14:25:58.875</td>\n",
       "      <td>NaN</td>\n",
       "      <td>NaN</td>\n",
       "      <td>NaN</td>\n",
       "      <td>NaN</td>\n",
       "      <td>NaN</td>\n",
       "      <td>NaN</td>\n",
       "      <td>0</td>\n",
       "      <td>NaN</td>\n",
       "      <td>NaN</td>\n",
       "      <td>...</td>\n",
       "      <td>NaN</td>\n",
       "      <td>NaN</td>\n",
       "      <td>NaN</td>\n",
       "      <td>NaN</td>\n",
       "      <td>NaN</td>\n",
       "      <td>NaN</td>\n",
       "      <td>NaN</td>\n",
       "      <td>NaN</td>\n",
       "      <td>7679.98</td>\n",
       "      <td>0.15</td>\n",
       "    </tr>\n",
       "    <tr>\n",
       "      <th>5</th>\n",
       "      <td>15/09/2011 14:25:59.125</td>\n",
       "      <td>NaN</td>\n",
       "      <td>NaN</td>\n",
       "      <td>NaN</td>\n",
       "      <td>NaN</td>\n",
       "      <td>NaN</td>\n",
       "      <td>0</td>\n",
       "      <td>0</td>\n",
       "      <td>647.998</td>\n",
       "      <td>NaN</td>\n",
       "      <td>...</td>\n",
       "      <td>NaN</td>\n",
       "      <td>NaN</td>\n",
       "      <td>0</td>\n",
       "      <td>0</td>\n",
       "      <td>0</td>\n",
       "      <td>0</td>\n",
       "      <td>0</td>\n",
       "      <td>0</td>\n",
       "      <td>4607.86</td>\n",
       "      <td>0.15</td>\n",
       "    </tr>\n",
       "  </tbody>\n",
       "</table>\n",
       "<p>5 rows × 26 columns</p>\n",
       "</div>"
      ],
      "text/plain": [
       "                         t EGT_SEL FLIGHT_MOD FMV_SEL HPTC_SEL LPTC_SEL  \\\n",
       "1  15/09/2011 14:25:58.125     NaN        NaN     NaN      NaN      NaN   \n",
       "2  15/09/2011 14:25:58.375     NaN        NaN     NaN      NaN      NaN   \n",
       "3  15/09/2011 14:25:58.625     NaN        NaN     NaN      NaN      NaN   \n",
       "4  15/09/2011 14:25:58.875     NaN        NaN     NaN      NaN      NaN   \n",
       "5  15/09/2011 14:25:59.125     NaN        NaN     NaN      NaN      NaN   \n",
       "\n",
       "  N1_SEL N2_ACTSEL    OIL_P OIL_TEMP  ... T25_SEL T3_SEL VBV_SEL VIB_CN1  \\\n",
       "1    NaN         0      NaN      NaN  ...     NaN    NaN     NaN     NaN   \n",
       "2    NaN         0      NaN      NaN  ...     NaN    NaN     NaN     NaN   \n",
       "3    NaN         0      NaN      NaN  ...     NaN    NaN     NaN     NaN   \n",
       "4    NaN         0      NaN      NaN  ...     NaN    NaN     NaN     NaN   \n",
       "5      0         0  647.998      NaN  ...     NaN    NaN       0       0   \n",
       "\n",
       "  VIB_CN2 VIB_TN1 VIB_TN2 VSV_SEL  WFM_SEL    XM  \n",
       "1     NaN     NaN     NaN     NaN      NaN   NaN  \n",
       "2     NaN     NaN     NaN     NaN      NaN   NaN  \n",
       "3     NaN     NaN     NaN     NaN      NaN   NaN  \n",
       "4     NaN     NaN     NaN     NaN  7679.98  0.15  \n",
       "5       0       0       0       0  4607.86  0.15  \n",
       "\n",
       "[5 rows x 26 columns]"
      ]
     },
     "execution_count": 79,
     "metadata": {},
     "output_type": "execute_result"
    }
   ],
   "source": [
    "print(units)\n",
    "df.head()"
   ]
  },
  {
   "cell_type": "markdown",
   "id": "9c7c08a2-0f12-4440-a3c7-90b810db37bb",
   "metadata": {},
   "source": [
    "On remarque que toutes les colonnes ont été reconnues comme de type object, c'est-à-dire des chaînes de caractères, alors que ce sont des valeurs numériques. Cela est dû à la première ligne contenant les unités. Il faut donc convertir les colonnes en numérique. La colonne 't', quant à elle, doit être convertie en type datetime."
   ]
  },
  {
   "cell_type": "code",
   "execution_count": 80,
   "id": "706a5be1-6b26-4380-a13e-7bad5976fcef",
   "metadata": {},
   "outputs": [],
   "source": [
    "df['t'] = pd.to_datetime(df['t'])\n",
    "df[df.columns[1:]] = df[df.columns[1:]].apply(pd.to_numeric)"
   ]
  },
  {
   "cell_type": "code",
   "execution_count": 81,
   "id": "2059e765-a56f-4f6a-992a-f4d98de33b5e",
   "metadata": {},
   "outputs": [
    {
     "data": {
      "text/plain": [
       "t             datetime64[ns]\n",
       "EGT_SEL              float64\n",
       "FLIGHT_MOD           float64\n",
       "FMV_SEL              float64\n",
       "HPTC_SEL             float64\n",
       "LPTC_SEL             float64\n",
       "N1_SEL               float64\n",
       "N2_ACTSEL            float64\n",
       "OIL_P                float64\n",
       "OIL_TEMP             float64\n",
       "PS3_SEL              float64\n",
       "PT2_SEL              float64\n",
       "P0_SEL               float64\n",
       "TAT                  float64\n",
       "TBV_SEL              float64\n",
       "TRA_SEL              float64\n",
       "T25_SEL              float64\n",
       "T3_SEL               float64\n",
       "VBV_SEL              float64\n",
       "VIB_CN1              float64\n",
       "VIB_CN2              float64\n",
       "VIB_TN1              float64\n",
       "VIB_TN2              float64\n",
       "VSV_SEL              float64\n",
       "WFM_SEL              float64\n",
       "XM                   float64\n",
       "dtype: object"
      ]
     },
     "execution_count": 81,
     "metadata": {},
     "output_type": "execute_result"
    }
   ],
   "source": [
    "df.dtypes"
   ]
  },
  {
   "cell_type": "code",
   "execution_count": 82,
   "id": "bd1beef0-c421-4fca-96b7-139ee5826d98",
   "metadata": {},
   "outputs": [
    {
     "data": {
      "text/html": [
       "<div>\n",
       "<style scoped>\n",
       "    .dataframe tbody tr th:only-of-type {\n",
       "        vertical-align: middle;\n",
       "    }\n",
       "\n",
       "    .dataframe tbody tr th {\n",
       "        vertical-align: top;\n",
       "    }\n",
       "\n",
       "    .dataframe thead th {\n",
       "        text-align: right;\n",
       "    }\n",
       "</style>\n",
       "<table border=\"1\" class=\"dataframe\">\n",
       "  <thead>\n",
       "    <tr style=\"text-align: right;\">\n",
       "      <th></th>\n",
       "      <th>EGT_SEL</th>\n",
       "      <th>FLIGHT_MOD</th>\n",
       "      <th>FMV_SEL</th>\n",
       "      <th>HPTC_SEL</th>\n",
       "      <th>LPTC_SEL</th>\n",
       "      <th>N1_SEL</th>\n",
       "      <th>N2_ACTSEL</th>\n",
       "      <th>OIL_P</th>\n",
       "      <th>OIL_TEMP</th>\n",
       "      <th>PS3_SEL</th>\n",
       "      <th>...</th>\n",
       "      <th>T25_SEL</th>\n",
       "      <th>T3_SEL</th>\n",
       "      <th>VBV_SEL</th>\n",
       "      <th>VIB_CN1</th>\n",
       "      <th>VIB_CN2</th>\n",
       "      <th>VIB_TN1</th>\n",
       "      <th>VIB_TN2</th>\n",
       "      <th>VSV_SEL</th>\n",
       "      <th>WFM_SEL</th>\n",
       "      <th>XM</th>\n",
       "    </tr>\n",
       "    <tr>\n",
       "      <th>t</th>\n",
       "      <th></th>\n",
       "      <th></th>\n",
       "      <th></th>\n",
       "      <th></th>\n",
       "      <th></th>\n",
       "      <th></th>\n",
       "      <th></th>\n",
       "      <th></th>\n",
       "      <th></th>\n",
       "      <th></th>\n",
       "      <th></th>\n",
       "      <th></th>\n",
       "      <th></th>\n",
       "      <th></th>\n",
       "      <th></th>\n",
       "      <th></th>\n",
       "      <th></th>\n",
       "      <th></th>\n",
       "      <th></th>\n",
       "      <th></th>\n",
       "      <th></th>\n",
       "    </tr>\n",
       "  </thead>\n",
       "  <tbody>\n",
       "    <tr>\n",
       "      <th>2011-09-15 14:25:58.125</th>\n",
       "      <td>NaN</td>\n",
       "      <td>NaN</td>\n",
       "      <td>NaN</td>\n",
       "      <td>NaN</td>\n",
       "      <td>NaN</td>\n",
       "      <td>NaN</td>\n",
       "      <td>0.0</td>\n",
       "      <td>NaN</td>\n",
       "      <td>NaN</td>\n",
       "      <td>NaN</td>\n",
       "      <td>...</td>\n",
       "      <td>NaN</td>\n",
       "      <td>NaN</td>\n",
       "      <td>NaN</td>\n",
       "      <td>NaN</td>\n",
       "      <td>NaN</td>\n",
       "      <td>NaN</td>\n",
       "      <td>NaN</td>\n",
       "      <td>NaN</td>\n",
       "      <td>NaN</td>\n",
       "      <td>NaN</td>\n",
       "    </tr>\n",
       "    <tr>\n",
       "      <th>2011-09-15 14:25:58.375</th>\n",
       "      <td>NaN</td>\n",
       "      <td>NaN</td>\n",
       "      <td>NaN</td>\n",
       "      <td>NaN</td>\n",
       "      <td>NaN</td>\n",
       "      <td>NaN</td>\n",
       "      <td>0.0</td>\n",
       "      <td>NaN</td>\n",
       "      <td>NaN</td>\n",
       "      <td>NaN</td>\n",
       "      <td>...</td>\n",
       "      <td>NaN</td>\n",
       "      <td>NaN</td>\n",
       "      <td>NaN</td>\n",
       "      <td>NaN</td>\n",
       "      <td>NaN</td>\n",
       "      <td>NaN</td>\n",
       "      <td>NaN</td>\n",
       "      <td>NaN</td>\n",
       "      <td>NaN</td>\n",
       "      <td>NaN</td>\n",
       "    </tr>\n",
       "    <tr>\n",
       "      <th>2011-09-15 14:25:58.625</th>\n",
       "      <td>NaN</td>\n",
       "      <td>NaN</td>\n",
       "      <td>NaN</td>\n",
       "      <td>NaN</td>\n",
       "      <td>NaN</td>\n",
       "      <td>NaN</td>\n",
       "      <td>0.0</td>\n",
       "      <td>NaN</td>\n",
       "      <td>NaN</td>\n",
       "      <td>NaN</td>\n",
       "      <td>...</td>\n",
       "      <td>NaN</td>\n",
       "      <td>NaN</td>\n",
       "      <td>NaN</td>\n",
       "      <td>NaN</td>\n",
       "      <td>NaN</td>\n",
       "      <td>NaN</td>\n",
       "      <td>NaN</td>\n",
       "      <td>NaN</td>\n",
       "      <td>NaN</td>\n",
       "      <td>NaN</td>\n",
       "    </tr>\n",
       "    <tr>\n",
       "      <th>2011-09-15 14:25:58.875</th>\n",
       "      <td>NaN</td>\n",
       "      <td>NaN</td>\n",
       "      <td>NaN</td>\n",
       "      <td>NaN</td>\n",
       "      <td>NaN</td>\n",
       "      <td>NaN</td>\n",
       "      <td>0.0</td>\n",
       "      <td>NaN</td>\n",
       "      <td>NaN</td>\n",
       "      <td>NaN</td>\n",
       "      <td>...</td>\n",
       "      <td>NaN</td>\n",
       "      <td>NaN</td>\n",
       "      <td>NaN</td>\n",
       "      <td>NaN</td>\n",
       "      <td>NaN</td>\n",
       "      <td>NaN</td>\n",
       "      <td>NaN</td>\n",
       "      <td>NaN</td>\n",
       "      <td>7679.98</td>\n",
       "      <td>0.15</td>\n",
       "    </tr>\n",
       "    <tr>\n",
       "      <th>2011-09-15 14:25:59.125</th>\n",
       "      <td>NaN</td>\n",
       "      <td>NaN</td>\n",
       "      <td>NaN</td>\n",
       "      <td>NaN</td>\n",
       "      <td>NaN</td>\n",
       "      <td>0.0</td>\n",
       "      <td>0.0</td>\n",
       "      <td>647.998</td>\n",
       "      <td>NaN</td>\n",
       "      <td>575.982</td>\n",
       "      <td>...</td>\n",
       "      <td>NaN</td>\n",
       "      <td>NaN</td>\n",
       "      <td>0.0</td>\n",
       "      <td>0.0</td>\n",
       "      <td>0.0</td>\n",
       "      <td>0.0</td>\n",
       "      <td>0.0</td>\n",
       "      <td>0.0</td>\n",
       "      <td>4607.86</td>\n",
       "      <td>0.15</td>\n",
       "    </tr>\n",
       "    <tr>\n",
       "      <th>...</th>\n",
       "      <td>...</td>\n",
       "      <td>...</td>\n",
       "      <td>...</td>\n",
       "      <td>...</td>\n",
       "      <td>...</td>\n",
       "      <td>...</td>\n",
       "      <td>...</td>\n",
       "      <td>...</td>\n",
       "      <td>...</td>\n",
       "      <td>...</td>\n",
       "      <td>...</td>\n",
       "      <td>...</td>\n",
       "      <td>...</td>\n",
       "      <td>...</td>\n",
       "      <td>...</td>\n",
       "      <td>...</td>\n",
       "      <td>...</td>\n",
       "      <td>...</td>\n",
       "      <td>...</td>\n",
       "      <td>...</td>\n",
       "      <td>...</td>\n",
       "    </tr>\n",
       "    <tr>\n",
       "      <th>2011-09-15 16:01:32.875</th>\n",
       "      <td>NaN</td>\n",
       "      <td>NaN</td>\n",
       "      <td>NaN</td>\n",
       "      <td>NaN</td>\n",
       "      <td>NaN</td>\n",
       "      <td>NaN</td>\n",
       "      <td>NaN</td>\n",
       "      <td>NaN</td>\n",
       "      <td>NaN</td>\n",
       "      <td>NaN</td>\n",
       "      <td>...</td>\n",
       "      <td>NaN</td>\n",
       "      <td>NaN</td>\n",
       "      <td>NaN</td>\n",
       "      <td>NaN</td>\n",
       "      <td>NaN</td>\n",
       "      <td>NaN</td>\n",
       "      <td>NaN</td>\n",
       "      <td>NaN</td>\n",
       "      <td>NaN</td>\n",
       "      <td>NaN</td>\n",
       "    </tr>\n",
       "    <tr>\n",
       "      <th>2011-09-15 16:01:33.125</th>\n",
       "      <td>NaN</td>\n",
       "      <td>NaN</td>\n",
       "      <td>NaN</td>\n",
       "      <td>NaN</td>\n",
       "      <td>NaN</td>\n",
       "      <td>NaN</td>\n",
       "      <td>NaN</td>\n",
       "      <td>NaN</td>\n",
       "      <td>NaN</td>\n",
       "      <td>NaN</td>\n",
       "      <td>...</td>\n",
       "      <td>NaN</td>\n",
       "      <td>NaN</td>\n",
       "      <td>NaN</td>\n",
       "      <td>NaN</td>\n",
       "      <td>NaN</td>\n",
       "      <td>NaN</td>\n",
       "      <td>NaN</td>\n",
       "      <td>NaN</td>\n",
       "      <td>NaN</td>\n",
       "      <td>NaN</td>\n",
       "    </tr>\n",
       "    <tr>\n",
       "      <th>2011-09-15 16:01:33.375</th>\n",
       "      <td>NaN</td>\n",
       "      <td>NaN</td>\n",
       "      <td>NaN</td>\n",
       "      <td>NaN</td>\n",
       "      <td>NaN</td>\n",
       "      <td>NaN</td>\n",
       "      <td>NaN</td>\n",
       "      <td>NaN</td>\n",
       "      <td>NaN</td>\n",
       "      <td>NaN</td>\n",
       "      <td>...</td>\n",
       "      <td>NaN</td>\n",
       "      <td>NaN</td>\n",
       "      <td>NaN</td>\n",
       "      <td>NaN</td>\n",
       "      <td>NaN</td>\n",
       "      <td>NaN</td>\n",
       "      <td>NaN</td>\n",
       "      <td>NaN</td>\n",
       "      <td>NaN</td>\n",
       "      <td>NaN</td>\n",
       "    </tr>\n",
       "    <tr>\n",
       "      <th>2011-09-15 16:01:33.625</th>\n",
       "      <td>NaN</td>\n",
       "      <td>NaN</td>\n",
       "      <td>NaN</td>\n",
       "      <td>NaN</td>\n",
       "      <td>NaN</td>\n",
       "      <td>NaN</td>\n",
       "      <td>NaN</td>\n",
       "      <td>NaN</td>\n",
       "      <td>NaN</td>\n",
       "      <td>NaN</td>\n",
       "      <td>...</td>\n",
       "      <td>NaN</td>\n",
       "      <td>NaN</td>\n",
       "      <td>NaN</td>\n",
       "      <td>NaN</td>\n",
       "      <td>NaN</td>\n",
       "      <td>NaN</td>\n",
       "      <td>NaN</td>\n",
       "      <td>NaN</td>\n",
       "      <td>NaN</td>\n",
       "      <td>NaN</td>\n",
       "    </tr>\n",
       "    <tr>\n",
       "      <th>2011-09-15 16:01:33.875</th>\n",
       "      <td>NaN</td>\n",
       "      <td>NaN</td>\n",
       "      <td>NaN</td>\n",
       "      <td>NaN</td>\n",
       "      <td>NaN</td>\n",
       "      <td>NaN</td>\n",
       "      <td>NaN</td>\n",
       "      <td>NaN</td>\n",
       "      <td>NaN</td>\n",
       "      <td>NaN</td>\n",
       "      <td>...</td>\n",
       "      <td>NaN</td>\n",
       "      <td>NaN</td>\n",
       "      <td>NaN</td>\n",
       "      <td>NaN</td>\n",
       "      <td>NaN</td>\n",
       "      <td>NaN</td>\n",
       "      <td>NaN</td>\n",
       "      <td>NaN</td>\n",
       "      <td>NaN</td>\n",
       "      <td>NaN</td>\n",
       "    </tr>\n",
       "  </tbody>\n",
       "</table>\n",
       "<p>22944 rows × 25 columns</p>\n",
       "</div>"
      ],
      "text/plain": [
       "                         EGT_SEL  FLIGHT_MOD  FMV_SEL  HPTC_SEL  LPTC_SEL  \\\n",
       "t                                                                           \n",
       "2011-09-15 14:25:58.125      NaN         NaN      NaN       NaN       NaN   \n",
       "2011-09-15 14:25:58.375      NaN         NaN      NaN       NaN       NaN   \n",
       "2011-09-15 14:25:58.625      NaN         NaN      NaN       NaN       NaN   \n",
       "2011-09-15 14:25:58.875      NaN         NaN      NaN       NaN       NaN   \n",
       "2011-09-15 14:25:59.125      NaN         NaN      NaN       NaN       NaN   \n",
       "...                          ...         ...      ...       ...       ...   \n",
       "2011-09-15 16:01:32.875      NaN         NaN      NaN       NaN       NaN   \n",
       "2011-09-15 16:01:33.125      NaN         NaN      NaN       NaN       NaN   \n",
       "2011-09-15 16:01:33.375      NaN         NaN      NaN       NaN       NaN   \n",
       "2011-09-15 16:01:33.625      NaN         NaN      NaN       NaN       NaN   \n",
       "2011-09-15 16:01:33.875      NaN         NaN      NaN       NaN       NaN   \n",
       "\n",
       "                         N1_SEL  N2_ACTSEL    OIL_P  OIL_TEMP  PS3_SEL  ...  \\\n",
       "t                                                                       ...   \n",
       "2011-09-15 14:25:58.125     NaN        0.0      NaN       NaN      NaN  ...   \n",
       "2011-09-15 14:25:58.375     NaN        0.0      NaN       NaN      NaN  ...   \n",
       "2011-09-15 14:25:58.625     NaN        0.0      NaN       NaN      NaN  ...   \n",
       "2011-09-15 14:25:58.875     NaN        0.0      NaN       NaN      NaN  ...   \n",
       "2011-09-15 14:25:59.125     0.0        0.0  647.998       NaN  575.982  ...   \n",
       "...                         ...        ...      ...       ...      ...  ...   \n",
       "2011-09-15 16:01:32.875     NaN        NaN      NaN       NaN      NaN  ...   \n",
       "2011-09-15 16:01:33.125     NaN        NaN      NaN       NaN      NaN  ...   \n",
       "2011-09-15 16:01:33.375     NaN        NaN      NaN       NaN      NaN  ...   \n",
       "2011-09-15 16:01:33.625     NaN        NaN      NaN       NaN      NaN  ...   \n",
       "2011-09-15 16:01:33.875     NaN        NaN      NaN       NaN      NaN  ...   \n",
       "\n",
       "                         T25_SEL  T3_SEL  VBV_SEL  VIB_CN1  VIB_CN2  VIB_TN1  \\\n",
       "t                                                                              \n",
       "2011-09-15 14:25:58.125      NaN     NaN      NaN      NaN      NaN      NaN   \n",
       "2011-09-15 14:25:58.375      NaN     NaN      NaN      NaN      NaN      NaN   \n",
       "2011-09-15 14:25:58.625      NaN     NaN      NaN      NaN      NaN      NaN   \n",
       "2011-09-15 14:25:58.875      NaN     NaN      NaN      NaN      NaN      NaN   \n",
       "2011-09-15 14:25:59.125      NaN     NaN      0.0      0.0      0.0      0.0   \n",
       "...                          ...     ...      ...      ...      ...      ...   \n",
       "2011-09-15 16:01:32.875      NaN     NaN      NaN      NaN      NaN      NaN   \n",
       "2011-09-15 16:01:33.125      NaN     NaN      NaN      NaN      NaN      NaN   \n",
       "2011-09-15 16:01:33.375      NaN     NaN      NaN      NaN      NaN      NaN   \n",
       "2011-09-15 16:01:33.625      NaN     NaN      NaN      NaN      NaN      NaN   \n",
       "2011-09-15 16:01:33.875      NaN     NaN      NaN      NaN      NaN      NaN   \n",
       "\n",
       "                         VIB_TN2  VSV_SEL  WFM_SEL    XM  \n",
       "t                                                         \n",
       "2011-09-15 14:25:58.125      NaN      NaN      NaN   NaN  \n",
       "2011-09-15 14:25:58.375      NaN      NaN      NaN   NaN  \n",
       "2011-09-15 14:25:58.625      NaN      NaN      NaN   NaN  \n",
       "2011-09-15 14:25:58.875      NaN      NaN  7679.98  0.15  \n",
       "2011-09-15 14:25:59.125      0.0      0.0  4607.86  0.15  \n",
       "...                          ...      ...      ...   ...  \n",
       "2011-09-15 16:01:32.875      NaN      NaN      NaN   NaN  \n",
       "2011-09-15 16:01:33.125      NaN      NaN      NaN   NaN  \n",
       "2011-09-15 16:01:33.375      NaN      NaN      NaN   NaN  \n",
       "2011-09-15 16:01:33.625      NaN      NaN      NaN   NaN  \n",
       "2011-09-15 16:01:33.875      NaN      NaN      NaN   NaN  \n",
       "\n",
       "[22944 rows x 25 columns]"
      ]
     },
     "execution_count": 82,
     "metadata": {},
     "output_type": "execute_result"
    }
   ],
   "source": [
    "\"\"\"\n",
    "Exercice - Index temporel\n",
    "Comme nos données sont une série temporelle multivariée, on souhaite utiliser un index temporel.\n",
    "1. Créez une copie de df, appelée df2, à l'aide de la méthode du même nom.\n",
    "2. Affectez la colonne du temps ('t') en tant qu'indice du DataFrame.\n",
    "3. Supprimez la colonne 't' du DF résultant.\n",
    "\"\"\"\n",
    "df2=df.copy()\n",
    "df2.index=df2.iloc[:,0]\n",
    "df2.drop('t',axis='columns',inplace=True)\n",
    "df2"
   ]
  },
  {
   "cell_type": "markdown",
   "id": "530e705f-fdd8-4e57-8722-1422776e66df",
   "metadata": {},
   "source": [
    "On constate que pandas a automatiquement reconnu un DatetimeIndex, adapté pour des manipulations de séries temporelles (moyennes glissantes, etc) !"
   ]
  },
  {
   "cell_type": "markdown",
   "id": "43c8c918-2fde-4d9b-937f-451a5aeaabcc",
   "metadata": {},
   "source": [
    "### Valeurs manquantes\n",
    "\n",
    "**NaN = Not a Number**\n",
    "\n",
    "Les valeurs NaN doivent être éliminées ou imputées (i.e. remplacées par une certaine valeur) avant la suite des traitements. Ce choix dépend du cas d'usage. Dans un premier temps, nous allons apprendre à :\n",
    "\n",
    "* trouver les données manquantes (méthode `isna`)\n",
    "* éliminer les données manquantes d'un DataFrame (méthode `dropna`)\n",
    "* les remplacer par une constante (méthode (`fillna`)"
   ]
  },
  {
   "cell_type": "code",
   "execution_count": 83,
   "id": "3deacff6-4491-408c-bf15-8ae3da78f2c2",
   "metadata": {},
   "outputs": [
    {
     "name": "stdout",
     "output_type": "stream",
     "text": [
      "Question 2.1\n",
      "Les colonnes qui ne contiennent pas de NaN sont : []\n",
      "Question 2.2\n",
      "a)\n",
      "il y a  99.65306834030685 %  de NaN dans le dataframe \n",
      "b)\n",
      "Les pourcentages de NaN dans chacune des colonnes est :\n",
      "[99.65132496513249, 99.55543933054393, 99.55543933054393, 99.57723152022315, 99.5423640167364, 99.581589958159, 99.74721059972106, 99.6208158995816, 99.61645746164575, 99.69926778242679, 99.62953277545327, 99.62953277545327, 99.69926778242679, 99.70362622036262, 99.69926778242679, 99.52928870292888, 99.52928870292888, 99.70798465829847, 99.70798465829847, 99.71670153417016, 99.71670153417016, 99.71670153417016, 99.72541841004184, 99.72977684797767, 99.73849372384937]\n",
      "La catégorie qui a le plus grand nombre de NaN est : EGT_SEL\n",
      "Question 2.3\n",
      "il y a 0.5186541143654114 %  lignes qui ne contiennent pas de NaN\n"
     ]
    }
   ],
   "source": [
    "\"\"\"\n",
    "EXERCICE - La méthode isna\n",
    "1. Testez la méthode isna sur le DataFrame df2, puis sur une colonne ou une ligne. Que renvoie-t-elle ?\n",
    "2. En appliquant les méthodes any(axis=...), mean() et max()/idxmax() sur les résultats de isna(), répondez aux questions suivantes :\n",
    "    2.1 Quelles colonnes contiennent des valeurs manquantes, lesquelles n'en contiennent pas ?\n",
    "    2.2 Quel est le pourcentage de valeurs manquantes dans le DF (a) par colonne (b) globalement ? Quelle variable contient le plus de NaN ?\n",
    "    2.3 Quel est le pourcentage d'indices du DF pour lesquels toutes les variables sont présentes ?\n",
    "\"\"\"\n",
    "#print(df2.isna())\n",
    "#print(df2.iloc[0].isna())\n",
    "#print(df2.iloc[:,0].isna())\n",
    "print('Question 2.1')\n",
    "nrow,ncol=df2.shape\n",
    "res=[]\n",
    "for j in range(ncol):\n",
    "    if sum(df2.iloc[:,j].isna()) == 0 :\n",
    "        res.append(df2.columns[j])\n",
    "print('Les colonnes qui ne contiennent pas de NaN sont :',res)\n",
    "\n",
    "print('Question 2.2')\n",
    "print('a)')\n",
    "S=0\n",
    "for j in range(ncol):\n",
    "    S+=sum(df2.iloc[:,j].isna())\n",
    "print('il y a ',(1-S/df2.size)*100,'%  de NaN dans le dataframe ')\n",
    "\n",
    "print('b)')\n",
    "M=0\n",
    "i_M=0\n",
    "L=[]\n",
    "N=df2.shape[0]\n",
    "\n",
    "for j in range(ncol):\n",
    "    x=(1-(sum(df2.iloc[:,j].isna())/N))*100\n",
    "    if M>x:\n",
    "        M=x\n",
    "        i_M=j\n",
    "    L.append(x)\n",
    "print('Les pourcentages de NaN dans chacune des colonnes est :')\n",
    "print(L)\n",
    "\n",
    "print('La catégorie qui a le plus grand nombre de NaN est :',df.columns[i_M+1])\n",
    "print('Question 2.3')\n",
    "\n",
    "res=0\n",
    "for i in range(nrow):\n",
    "    if sum(df2.iloc[i,:].isna()) != 0 :\n",
    "        res+=1\n",
    "print('il y a',res/len(df2.index)*100,'%  lignes qui ne contiennent pas de NaN')\n",
    "\n"
   ]
  },
  {
   "cell_type": "code",
   "execution_count": 84,
   "id": "2b24c3a9-6cbc-4c11-93d3-5d6a5e5b0b3f",
   "metadata": {},
   "outputs": [
    {
     "data": {
      "text/plain": [
       "'\\nEXERCICE - La méthode dropna\\nLa méthode dropna permet d\\'éliminer les valeurs manquantes (NaN). Lisez d\\'abord sa documentation.\\n1. À quoi correspondent les arguments \"axis\" et \"how\" ?\\n2. Éliminez toutes les lignes contenant uniquement des valeurs manquantes.\\n3. Éliminez toutes les lignes contenant au moins une valeur manquante. Combien y a-t-il de lignes de différence ?\\n4. Éliminez toutes les colonnes contenant au moins une valeur manquante.\\n'"
      ]
     },
     "execution_count": 84,
     "metadata": {},
     "output_type": "execute_result"
    }
   ],
   "source": [
    "\"\"\"\n",
    "EXERCICE - La méthode dropna\n",
    "La méthode dropna permet d'éliminer les valeurs manquantes (NaN). Lisez d'abord sa documentation.\n",
    "1. À quoi correspondent les arguments \"axis\" et \"how\" ?\n",
    "2. Éliminez toutes les lignes contenant uniquement des valeurs manquantes.\n",
    "3. Éliminez toutes les lignes contenant au moins une valeur manquante. Combien y a-t-il de lignes de différence ?\n",
    "4. Éliminez toutes les colonnes contenant au moins une valeur manquante.\n",
    "\"\"\"\n"
   ]
  },
  {
   "cell_type": "markdown",
   "id": "011fdfae",
   "metadata": {},
   "source": [
    "#### Question 1\n",
    "L'argument **axis** correspond a l'axe du dataframe (axis = 0 ou 'index' pour les index[par défaut] et 1 ou 'columns' pour les colonnes) que l on doit enlever pour une valeur de type NaN\n",
    "\n",
    "L'argument **how** correspond au critère que l'on choisi pour enlever les colonnes ou ligne choisie : soit 'any' pour enlever la colonne ou ligne si elle contient au moins un NaN [par défaut] soit 'all' pour enlever la colonne ou ligne si elle ne contient que des NaN  \n"
   ]
  },
  {
   "cell_type": "code",
   "execution_count": 85,
   "id": "43bae994",
   "metadata": {},
   "outputs": [
    {
     "name": "stdout",
     "output_type": "stream",
     "text": [
      "Question 2\n",
      "55\n",
      "Question 3\n",
      "il y a  64  lignes de différences\n",
      "Question 4\n"
     ]
    },
    {
     "data": {
      "text/html": [
       "<div>\n",
       "<style scoped>\n",
       "    .dataframe tbody tr th:only-of-type {\n",
       "        vertical-align: middle;\n",
       "    }\n",
       "\n",
       "    .dataframe tbody tr th {\n",
       "        vertical-align: top;\n",
       "    }\n",
       "\n",
       "    .dataframe thead th {\n",
       "        text-align: right;\n",
       "    }\n",
       "</style>\n",
       "<table border=\"1\" class=\"dataframe\">\n",
       "  <thead>\n",
       "    <tr style=\"text-align: right;\">\n",
       "      <th></th>\n",
       "      <th>EGT_SEL</th>\n",
       "      <th>FLIGHT_MOD</th>\n",
       "      <th>FMV_SEL</th>\n",
       "      <th>HPTC_SEL</th>\n",
       "      <th>LPTC_SEL</th>\n",
       "      <th>N1_SEL</th>\n",
       "      <th>N2_ACTSEL</th>\n",
       "      <th>OIL_P</th>\n",
       "      <th>OIL_TEMP</th>\n",
       "      <th>PS3_SEL</th>\n",
       "      <th>...</th>\n",
       "      <th>T25_SEL</th>\n",
       "      <th>T3_SEL</th>\n",
       "      <th>VBV_SEL</th>\n",
       "      <th>VIB_CN1</th>\n",
       "      <th>VIB_CN2</th>\n",
       "      <th>VIB_TN1</th>\n",
       "      <th>VIB_TN2</th>\n",
       "      <th>VSV_SEL</th>\n",
       "      <th>WFM_SEL</th>\n",
       "      <th>XM</th>\n",
       "    </tr>\n",
       "    <tr>\n",
       "      <th>t</th>\n",
       "      <th></th>\n",
       "      <th></th>\n",
       "      <th></th>\n",
       "      <th></th>\n",
       "      <th></th>\n",
       "      <th></th>\n",
       "      <th></th>\n",
       "      <th></th>\n",
       "      <th></th>\n",
       "      <th></th>\n",
       "      <th></th>\n",
       "      <th></th>\n",
       "      <th></th>\n",
       "      <th></th>\n",
       "      <th></th>\n",
       "      <th></th>\n",
       "      <th></th>\n",
       "      <th></th>\n",
       "      <th></th>\n",
       "      <th></th>\n",
       "      <th></th>\n",
       "    </tr>\n",
       "  </thead>\n",
       "  <tbody>\n",
       "    <tr>\n",
       "      <th>2011-09-15 14:26:02.875</th>\n",
       "      <td>335.9840</td>\n",
       "      <td>1.0</td>\n",
       "      <td>0.0</td>\n",
       "      <td>0.0</td>\n",
       "      <td>0.0</td>\n",
       "      <td>0.0</td>\n",
       "      <td>0.0</td>\n",
       "      <td>0.0</td>\n",
       "      <td>177.3740</td>\n",
       "      <td>959.980</td>\n",
       "      <td>...</td>\n",
       "      <td>-128.0</td>\n",
       "      <td>0.0</td>\n",
       "      <td>0.0</td>\n",
       "      <td>0.0</td>\n",
       "      <td>0.0</td>\n",
       "      <td>0.0</td>\n",
       "      <td>0.0</td>\n",
       "      <td>0.0</td>\n",
       "      <td>7679.84</td>\n",
       "      <td>0.15</td>\n",
       "    </tr>\n",
       "    <tr>\n",
       "      <th>2011-09-15 14:26:03.125</th>\n",
       "      <td>239.9860</td>\n",
       "      <td>1.0</td>\n",
       "      <td>0.0</td>\n",
       "      <td>0.0</td>\n",
       "      <td>0.0</td>\n",
       "      <td>0.0</td>\n",
       "      <td>0.0</td>\n",
       "      <td>0.0</td>\n",
       "      <td>133.6240</td>\n",
       "      <td>575.982</td>\n",
       "      <td>...</td>\n",
       "      <td>-128.0</td>\n",
       "      <td>0.0</td>\n",
       "      <td>0.0</td>\n",
       "      <td>0.0</td>\n",
       "      <td>0.0</td>\n",
       "      <td>0.0</td>\n",
       "      <td>0.0</td>\n",
       "      <td>0.0</td>\n",
       "      <td>4607.86</td>\n",
       "      <td>0.15</td>\n",
       "    </tr>\n",
       "    <tr>\n",
       "      <th>2011-09-15 14:26:03.375</th>\n",
       "      <td>167.9910</td>\n",
       "      <td>1.0</td>\n",
       "      <td>0.0</td>\n",
       "      <td>0.0</td>\n",
       "      <td>0.0</td>\n",
       "      <td>0.0</td>\n",
       "      <td>0.0</td>\n",
       "      <td>0.0</td>\n",
       "      <td>89.8743</td>\n",
       "      <td>191.984</td>\n",
       "      <td>...</td>\n",
       "      <td>-128.0</td>\n",
       "      <td>0.0</td>\n",
       "      <td>0.0</td>\n",
       "      <td>0.0</td>\n",
       "      <td>0.0</td>\n",
       "      <td>0.0</td>\n",
       "      <td>0.0</td>\n",
       "      <td>0.0</td>\n",
       "      <td>1535.87</td>\n",
       "      <td>0.15</td>\n",
       "    </tr>\n",
       "    <tr>\n",
       "      <th>2011-09-15 14:26:03.625</th>\n",
       "      <td>119.9940</td>\n",
       "      <td>1.0</td>\n",
       "      <td>0.0</td>\n",
       "      <td>0.0</td>\n",
       "      <td>0.0</td>\n",
       "      <td>0.0</td>\n",
       "      <td>0.0</td>\n",
       "      <td>0.0</td>\n",
       "      <td>68.0000</td>\n",
       "      <td>0.000</td>\n",
       "      <td>...</td>\n",
       "      <td>-128.0</td>\n",
       "      <td>0.0</td>\n",
       "      <td>0.0</td>\n",
       "      <td>0.0</td>\n",
       "      <td>0.0</td>\n",
       "      <td>0.0</td>\n",
       "      <td>0.0</td>\n",
       "      <td>0.0</td>\n",
       "      <td>0.00</td>\n",
       "      <td>0.15</td>\n",
       "    </tr>\n",
       "    <tr>\n",
       "      <th>2011-09-15 14:26:03.875</th>\n",
       "      <td>72.0011</td>\n",
       "      <td>1.0</td>\n",
       "      <td>0.0</td>\n",
       "      <td>0.0</td>\n",
       "      <td>0.0</td>\n",
       "      <td>0.0</td>\n",
       "      <td>0.0</td>\n",
       "      <td>0.0</td>\n",
       "      <td>68.0000</td>\n",
       "      <td>0.000</td>\n",
       "      <td>...</td>\n",
       "      <td>-128.0</td>\n",
       "      <td>0.0</td>\n",
       "      <td>0.0</td>\n",
       "      <td>0.0</td>\n",
       "      <td>0.0</td>\n",
       "      <td>0.0</td>\n",
       "      <td>0.0</td>\n",
       "      <td>0.0</td>\n",
       "      <td>0.00</td>\n",
       "      <td>0.15</td>\n",
       "    </tr>\n",
       "  </tbody>\n",
       "</table>\n",
       "<p>5 rows × 25 columns</p>\n",
       "</div>"
      ],
      "text/plain": [
       "                          EGT_SEL  FLIGHT_MOD  FMV_SEL  HPTC_SEL  LPTC_SEL  \\\n",
       "t                                                                            \n",
       "2011-09-15 14:26:02.875  335.9840         1.0      0.0       0.0       0.0   \n",
       "2011-09-15 14:26:03.125  239.9860         1.0      0.0       0.0       0.0   \n",
       "2011-09-15 14:26:03.375  167.9910         1.0      0.0       0.0       0.0   \n",
       "2011-09-15 14:26:03.625  119.9940         1.0      0.0       0.0       0.0   \n",
       "2011-09-15 14:26:03.875   72.0011         1.0      0.0       0.0       0.0   \n",
       "\n",
       "                         N1_SEL  N2_ACTSEL  OIL_P  OIL_TEMP  PS3_SEL  ...  \\\n",
       "t                                                                     ...   \n",
       "2011-09-15 14:26:02.875     0.0        0.0    0.0  177.3740  959.980  ...   \n",
       "2011-09-15 14:26:03.125     0.0        0.0    0.0  133.6240  575.982  ...   \n",
       "2011-09-15 14:26:03.375     0.0        0.0    0.0   89.8743  191.984  ...   \n",
       "2011-09-15 14:26:03.625     0.0        0.0    0.0   68.0000    0.000  ...   \n",
       "2011-09-15 14:26:03.875     0.0        0.0    0.0   68.0000    0.000  ...   \n",
       "\n",
       "                         T25_SEL  T3_SEL  VBV_SEL  VIB_CN1  VIB_CN2  VIB_TN1  \\\n",
       "t                                                                              \n",
       "2011-09-15 14:26:02.875   -128.0     0.0      0.0      0.0      0.0      0.0   \n",
       "2011-09-15 14:26:03.125   -128.0     0.0      0.0      0.0      0.0      0.0   \n",
       "2011-09-15 14:26:03.375   -128.0     0.0      0.0      0.0      0.0      0.0   \n",
       "2011-09-15 14:26:03.625   -128.0     0.0      0.0      0.0      0.0      0.0   \n",
       "2011-09-15 14:26:03.875   -128.0     0.0      0.0      0.0      0.0      0.0   \n",
       "\n",
       "                         VIB_TN2  VSV_SEL  WFM_SEL    XM  \n",
       "t                                                         \n",
       "2011-09-15 14:26:02.875      0.0      0.0  7679.84  0.15  \n",
       "2011-09-15 14:26:03.125      0.0      0.0  4607.86  0.15  \n",
       "2011-09-15 14:26:03.375      0.0      0.0  1535.87  0.15  \n",
       "2011-09-15 14:26:03.625      0.0      0.0     0.00  0.15  \n",
       "2011-09-15 14:26:03.875      0.0      0.0     0.00  0.15  \n",
       "\n",
       "[5 rows x 25 columns]"
      ]
     },
     "execution_count": 85,
     "metadata": {},
     "output_type": "execute_result"
    }
   ],
   "source": [
    "print('Question 2')\n",
    "n_row=df2.shape[0]\n",
    "df2.dropna(how='all',inplace=True)\n",
    "diff1=n_row-df2.shape[0]\n",
    "print(diff1)\n",
    "print('Question 3')\n",
    "df2.dropna(inplace=True)\n",
    "diff2=n_row-df2.shape[0]\n",
    "print(\"il y a \",diff2-diff1,\" lignes de différences\")\n",
    "print('Question 4')\n",
    "df2.dropna(axis=1,inplace=True)\n",
    "df2.head()"
   ]
  },
  {
   "cell_type": "code",
   "execution_count": 86,
   "id": "27ad1ce1-8659-4f37-b370-91da31eb2580",
   "metadata": {},
   "outputs": [
    {
     "name": "stdout",
     "output_type": "stream",
     "text": [
      "Question 1\n",
      "Les NaN peuvent etre remplis avec des scalaires dictionnaires séries ou dataframe et selon différentes méthodes : \n",
      "Question 2\n",
      "0    24.0\n",
      "dtype: float64\n",
      "Question 3\n",
      "le meilleur choix ici serait de remplacer par la moyenne pour ne pas impacter trop les statistiques\n",
      "le meilleur choix pour une variable temporelle serait de remplacer par la moyenne du précédent et du suivant pour ne pas impacter trop les graphiques\n"
     ]
    }
   ],
   "source": [
    "\"\"\"\n",
    "EXERCICE - La méthode fillna\n",
    "La méthode dropna permet d'imputer les valeurs manquantes (NaN). Lisez d'abord sa documentation.\n",
    "1. Quelles sont les différentes stratégies de remplissage des valeurs manquantes ?\n",
    "2. Imputez les valeurs manquantes de la colonne age du DF donné en exemple par :\n",
    "    - 0\n",
    "    - la dernière valeur précédente/suivante valide\n",
    "    - la moyenne\n",
    "    - la valeur la plus courante (mode)\n",
    "3. Quel est le meilleur choix dans ce cas ? Et pour le cas d'une variable temporelle, par exemple la température 'EGT_SEL' de notre jeu de données ?\n",
    "\"\"\"\n"
   ]
  },
  {
   "cell_type": "markdown",
   "id": "9316dce8",
   "metadata": {},
   "source": [
    "#### Question 1\n",
    "\n",
    "Les NaN peuvent etre remplis avec des scalaires dictionnaires séries ou dataframe et selon différentes méthodes : \n",
    "- on peut remplacer toutes les valeurs par un scalaire\n",
    "- on peut donner une liste, un dictionnaire on un serie de Dataframe en argument pour remplir les valeurs NaN par les valeurs de la liste\n",
    "- on peut demander a ce que les valeurs soient remplacées par la valeur d avant ou d apres"
   ]
  },
  {
   "cell_type": "code",
   "execution_count": null,
   "id": "a286a9c7",
   "metadata": {},
   "outputs": [],
   "source": [
    "df.fillna()\n",
    "exemple = pd.DataFrame({'nom': ['Alice', 'Bob', 'Charlie', 'David'], 'age': [24, np.nan, 99, 24]})\n",
    "print('Question 2')\n",
    "exemple.fillna(0)\n",
    "exemple.fillna(method='ffill')\n",
    "exemple.fillna(method='bfill')\n",
    "mean=sum(exemple.iloc[:,1].dropna())/len(exemple.iloc[:,1].dropna())\n",
    "exemple.fillna(mean)\n",
    "mod=exemple.iloc[:,1].mode()\n",
    "print(mod)\n",
    "exemple.fillna(mod[0])"
   ]
  },
  {
   "cell_type": "markdown",
   "id": "90d37fbb",
   "metadata": {},
   "source": [
    "#### Question 4\n",
    "Le meilleur choix ici serait de remplacer par la moyenne pour ne pas impacter trop les statistiques\n",
    "Le meilleur choix pour une variable temporelle serait de remplacer par la moyenne du précédent et du suivant pour ne pas impacter trop les graphiques\n"
   ]
  },
  {
   "cell_type": "markdown",
   "id": "b5d55345-2d7d-47b5-889c-7ba241902090",
   "metadata": {},
   "source": [
    "## Git"
   ]
  },
  {
   "cell_type": "markdown",
   "id": "330b3ba5-1c43-4f7c-91a4-b23910d25b24",
   "metadata": {},
   "source": [
    "Créer un compte GitHub : https://github.com/\n",
    "\n",
    "Créer un nouveau repository :\n",
    "1. Sélectionner \"Nouveau dépôt\" dans le menu déroulant avec le signe +. \n",
    "2. Saisisser un nom pour votre dépôt (par exemple, \"TDs statistiques descriptives\") \n",
    "3. Cliquer sur \"Créer un dépôt\". Ne vous souciez pas des autres options.\n",
    "\n",
    "\n",
    "\n",
    "Télécharger Git Bash : https://git-scm.com/downloads\n",
    "\n",
    "Sur Git Bash, positionnez-vous dans le répertoire où votre projet figure.\n",
    "\n",
    "Ensuite\n",
    "\n",
    "> git init\n",
    "\n",
    "> git remote add origin https://github.com/********\n",
    "\n",
    "> git add .\n",
    "\n",
    "> git commit -m \"Ajout du TD1\"\n",
    "\n",
    "> git push origin master\n",
    "\n",
    "C'est tout ! Vous avez créé votre repo GitHub ! "
   ]
  }
 ],
 "metadata": {
  "environment": {
   "kernel": "python3",
   "name": "pytorch-gpu.1-11.m93",
   "type": "gcloud",
   "uri": "gcr.io/deeplearning-platform-release/pytorch-gpu.1-11:m93"
  },
  "kernelspec": {
   "display_name": "Python 3.8.8 ('base')",
   "language": "python",
   "name": "python3"
  },
  "language_info": {
   "codemirror_mode": {
    "name": "ipython",
    "version": 3
   },
   "file_extension": ".py",
   "mimetype": "text/x-python",
   "name": "python",
   "nbconvert_exporter": "python",
   "pygments_lexer": "ipython3",
   "version": "3.8.8"
  },
  "vscode": {
   "interpreter": {
    "hash": "3a879106b2b18878579d9347381e22ada575de5d14ca86f191130cfab0f92ae8"
   }
  }
 },
 "nbformat": 4,
 "nbformat_minor": 5
}
